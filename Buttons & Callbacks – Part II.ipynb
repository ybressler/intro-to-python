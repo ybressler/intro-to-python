{
  "nbformat": 4,
  "nbformat_minor": 0,
  "metadata": {
    "colab": {
      "name": "Buttons & Callbacks – Part II.ipynb",
      "provenance": [],
      "private_outputs": true,
      "collapsed_sections": [],
      "authorship_tag": "ABX9TyO0cNke4n57eIALTG130zOi",
      "include_colab_link": true
    },
    "kernelspec": {
      "name": "python3",
      "display_name": "Python 3"
    }
  },
  "cells": [
    {
      "cell_type": "markdown",
      "metadata": {
        "id": "view-in-github",
        "colab_type": "text"
      },
      "source": [
        "<a href=\"https://colab.research.google.com/github/ybressler/intro-to-python/blob/master/Buttons%20%26%20Callbacks%20%E2%80%93%20Part%20II.ipynb\" target=\"_parent\"><img src=\"https://colab.research.google.com/assets/colab-badge.svg\" alt=\"Open In Colab\"/></a>"
      ]
    },
    {
      "cell_type": "markdown",
      "metadata": {
        "id": "s7c685m_AL0y",
        "colab_type": "text"
      },
      "source": [
        "<font size=10>\n",
        "Buttons and Callbacks – Part II\n",
        "</font>\n",
        "\n",
        "Read more about [ipywidgets](https://ipywidgets.readthedocs.io/)."
      ]
    },
    {
      "cell_type": "code",
      "metadata": {
        "id": "B_zLFIBuAIsY",
        "colab_type": "code",
        "colab": {}
      },
      "source": [
        "# import your stuff\n",
        "import time\n",
        "import pandas as pd\n",
        "import matplotlib.pyplot as plt\n",
        "import ipywidgets as widgets\n",
        "from IPython.display import display"
      ],
      "execution_count": 0,
      "outputs": []
    },
    {
      "cell_type": "code",
      "metadata": {
        "id": "M7ZJo9fKBTRC",
        "colab_type": "code",
        "colab": {}
      },
      "source": [
        "# import your data\n",
        "data_url = \"https://storage.googleapis.com/yb-intro-to-python/top%20names%20in%20israel%202017-2018.json\"\n",
        "df = pd.read_json(url)\n",
        "df.columns = df.columns.str.replace(\" #\",\" N\")\n",
        "\n",
        "df.head(2)"
      ],
      "execution_count": 0,
      "outputs": []
    },
    {
      "cell_type": "markdown",
      "metadata": {
        "id": "ZR5Rd3rZATLU",
        "colab_type": "text"
      },
      "source": [
        "# 1. Create Widgets"
      ]
    },
    {
      "cell_type": "code",
      "metadata": {
        "id": "kRu60auCAWpS",
        "colab_type": "code",
        "colab": {}
      },
      "source": [
        "# Give yourself a label\n",
        "label = widgets.Label(\n",
        "    value=\"Select some things:\",\n",
        "    )\n",
        "\n",
        "# Alternatively, create it with HTML\n",
        "# label = widgets.HTML(\"<b>Select some things:</b>\")\n",
        "    \n",
        "# There are three years to choose from\n",
        "years = [2018, 2017, 2016]\n",
        "dropdown = widgets.Dropdown(\n",
        "    options=years,\n",
        "    description='Choose a Year:',\n",
        "    # style = {'description_width': 'initial'}, #This allows the description to show\n",
        "    )\n",
        "\n",
        "# Create an output\n",
        "out = widgets.Output(\n",
        "    layout={'border': '1px solid black'}\n",
        "    )\n",
        "\n",
        "\n",
        "# Create a slider\n",
        "label_2 = widgets.Label('How many values do you want to show?')\n",
        "\n",
        "slider = widgets.IntSlider(\n",
        "    value=10,\n",
        "    min=1,\n",
        "    max=len(df),\n",
        "    step=1,\n",
        "    # No description here, too long...\n",
        ")\n",
        "\n",
        "# Create some buttons\n",
        "button_1 = widgets.Button(\n",
        "    description=\"Show Graph\",\n",
        "    style = {'button_color': 'lightgreen'},\n",
        "    )\n",
        "\n",
        "# Create a button\n",
        "button_2 = widgets.Button(\n",
        "    description=\"Clear Output\",\n",
        "    style = {'button_color': 'orange'},\n",
        "    )\n",
        "\n",
        "\n",
        "# Display them:\n",
        "display(label, dropdown, label_2, slider, button_1,button_2, out)"
      ],
      "execution_count": 0,
      "outputs": []
    },
    {
      "cell_type": "markdown",
      "metadata": {
        "id": "_IJoGekUTNkU",
        "colab_type": "text"
      },
      "source": [
        "# 2. Create Callbacks"
      ]
    },
    {
      "cell_type": "code",
      "metadata": {
        "id": "H5czNvJ1TQhl",
        "colab_type": "code",
        "colab": {}
      },
      "source": [
        "# Delete this one after you see what it does\n",
        "def on_value_change_DELETE_SOON(change):\n",
        "    with out:  \n",
        "      # Print out the new year\n",
        "      year = change['new']\n",
        "      print(year)\n",
        "\n",
        "dropdown.observe(on_value_change_DELETE_SOON, names='value')"
      ],
      "execution_count": 0,
      "outputs": []
    },
    {
      "cell_type": "code",
      "metadata": {
        "id": "kLwZe2xRGpfT",
        "colab_type": "code",
        "colab": {}
      },
      "source": [
        "# Clear output\n",
        "def on_button_click(b):\n",
        "    with out:\n",
        "        print(\"Clearing output...\")\n",
        "        time.sleep(1) # This makes the code wait (try changing it to 5 and see what happens)\n",
        "        out.clear_output()\n",
        "\n",
        "button_2.on_click(on_button_click)"
      ],
      "execution_count": 0,
      "outputs": []
    },
    {
      "cell_type": "markdown",
      "metadata": {
        "id": "BYKIhSoOTb1b",
        "colab_type": "text"
      },
      "source": [
        "***Don't run the code below until you're done reviewing...***"
      ]
    },
    {
      "cell_type": "code",
      "metadata": {
        "id": "B8VCeaw0TYof",
        "colab_type": "code",
        "colab": {}
      },
      "source": [
        "# Show the selected data here\n",
        "def on_value_change(change):\n",
        "    with out:  \n",
        "\n",
        "      # Print out the new year\n",
        "      year = change['new']\n",
        "      \n",
        "      # we clear output on change?\n",
        "      out.clear_output()\n",
        "\n",
        "      # Sort your data by the new year selected\n",
        "      temp_df = df.sort_values(by = f\"{year} RANK\").reset_index(drop=True)\n",
        "      # Show it nicely using `display`\n",
        "      # How many do you want to show?\n",
        "      n = slider.value\n",
        "      display(temp_df.head(n))\n",
        "      \n",
        "# When you're done reviewing, uncomment the following line\n",
        "# dropdown.observe(on_value_change, names='value')"
      ],
      "execution_count": 0,
      "outputs": []
    },
    {
      "cell_type": "markdown",
      "metadata": {
        "id": "HI5Etd5iThmc",
        "colab_type": "text"
      },
      "source": [
        "# 3. Advanced Callbacks – Plotting"
      ]
    },
    {
      "cell_type": "code",
      "metadata": {
        "id": "OZzYNez5FdWf",
        "colab_type": "code",
        "colab": {}
      },
      "source": [
        "# This will show a graph based on user interaction\n",
        "def show_graph(b=None):\n",
        "  with out:\n",
        "    # Sort the data\n",
        "    year = dropdown.value\n",
        "    temp_df = df.sort_values(by = f\"{year} RANK\").reset_index(drop=True)\n",
        "\n",
        "    # How many do you want to show?\n",
        "    n = slider.value\n",
        "    temp_df = temp_df.head(n)\n",
        "\n",
        "    # Plot it\n",
        "    fig = plt.figure(figsize=(14,6))\n",
        "    plt.bar(f\"{year} RANK\",f\"{year} N\", data=temp_df)\n",
        "    plt.xticks(temp_df[f\"{year} RANK\"], labels=temp_df[\"NAME (ENGLISH)\"], rotation=90)\n",
        "    plt.title(f\"Top {n} names for {year}\",size=14, weight=\"bold\")\n",
        "    plt.show()\n",
        "\n",
        "# Only add once you're done reviewing\n",
        "# button_1.on_click(show_graph)"
      ],
      "execution_count": 0,
      "outputs": []
    },
    {
      "cell_type": "markdown",
      "metadata": {
        "id": "sTqdTrTmTkqB",
        "colab_type": "text"
      },
      "source": [
        "# 4. Further Analysis\n",
        "\n",
        "Here's where we can ask and answer interesting questions"
      ]
    },
    {
      "cell_type": "code",
      "metadata": {
        "id": "wr7r3UfTToD4",
        "colab_type": "code",
        "colab": {}
      },
      "source": [
        "# Investigate your data\n",
        "df.head(5)"
      ],
      "execution_count": 0,
      "outputs": []
    }
  ]
}