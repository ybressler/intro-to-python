{
  "nbformat": 4,
  "nbformat_minor": 0,
  "metadata": {
    "colab": {
      "name": "Number Game – Standard.ipynb",
      "provenance": [],
      "private_outputs": true,
      "collapsed_sections": [],
      "authorship_tag": "ABX9TyOmjJXECsVYmahOaOmYlX1V",
      "include_colab_link": true
    },
    "kernelspec": {
      "name": "python3",
      "display_name": "Python 3"
    }
  },
  "cells": [
    {
      "cell_type": "markdown",
      "metadata": {
        "id": "view-in-github",
        "colab_type": "text"
      },
      "source": [
        "<a href=\"https://colab.research.google.com/github/ybressler/intro-to-python/blob/master/Number%20Game%20%E2%80%93%20Standard.ipynb\" target=\"_parent\"><img src=\"https://colab.research.google.com/assets/colab-badge.svg\" alt=\"Open In Colab\"/></a>"
      ]
    },
    {
      "cell_type": "markdown",
      "metadata": {
        "id": "WBARMKTL6UKt",
        "colab_type": "text"
      },
      "source": [
        "# Number Game"
      ]
    },
    {
      "cell_type": "code",
      "metadata": {
        "id": "hmg8unvW7Ah6",
        "colab_type": "code",
        "colab": {}
      },
      "source": [
        "import ipywidgets as widgets\n",
        "from IPython.display import display\n",
        "import time"
      ],
      "execution_count": 0,
      "outputs": []
    },
    {
      "cell_type": "code",
      "metadata": {
        "id": "BlTO7dbu7wTf",
        "colab_type": "code",
        "colab": {}
      },
      "source": [
        "# Create your buttons\n",
        "button_yes = widgets.Button(description=\"Yes\", tooltip=\"Click me\")\n",
        "button_no = widgets.Button(description=\"No\", tooltip=\"Click me\")\n",
        "\n",
        "# Put them in a row – so you can see them side by side\n",
        "button_row = widgets.Box([button_yes,button_no])\n",
        "\n",
        "\n",
        "# Display it all at once\n",
        "display(button_row)"
      ],
      "execution_count": 0,
      "outputs": []
    },
    {
      "cell_type": "code",
      "metadata": {
        "id": "AKLqrOYv-_y5",
        "colab_type": "code",
        "colab": {}
      },
      "source": [
        "def on_yes(b):\n",
        "  # This is a callback for the button\n",
        "  print(\"something\")\n",
        "\n",
        "button_yes.on_click(on_yes)\n",
        "\n",
        "# =============================================\n",
        "\n",
        "def on_no(b):\n",
        "  # This is a callback for the button\n",
        "  print(\"NO\")\n",
        "\n",
        "button_no.on_click(on_no)"
      ],
      "execution_count": 0,
      "outputs": []
    },
    {
      "cell_type": "code",
      "metadata": {
        "id": "2UhxF-TN2u5P",
        "colab_type": "code",
        "colab": {}
      },
      "source": [
        "button_yes??"
      ],
      "execution_count": 0,
      "outputs": []
    }
  ]
}