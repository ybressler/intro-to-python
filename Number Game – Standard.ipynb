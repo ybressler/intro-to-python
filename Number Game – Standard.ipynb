{
  "nbformat": 4,
  "nbformat_minor": 0,
  "metadata": {
    "colab": {
      "name": "Number Game – Standard.ipynb",
      "provenance": [],
      "private_outputs": true,
      "collapsed_sections": [
        "iQAzz-jHCQ-W"
      ],
      "authorship_tag": "ABX9TyMHjTku7Ez18RRKD7NB7l+C",
      "include_colab_link": true
    },
    "kernelspec": {
      "name": "python3",
      "display_name": "Python 3"
    }
  },
  "cells": [
    {
      "cell_type": "markdown",
      "metadata": {
        "id": "view-in-github",
        "colab_type": "text"
      },
      "source": [
        "<a href=\"https://colab.research.google.com/github/ybressler/intro-to-python/blob/master/Number%20Game%20%E2%80%93%20Standard.ipynb\" target=\"_parent\"><img src=\"https://colab.research.google.com/assets/colab-badge.svg\" alt=\"Open In Colab\"/></a>"
      ]
    },
    {
      "cell_type": "markdown",
      "metadata": {
        "id": "WBARMKTL6UKt",
        "colab_type": "text"
      },
      "source": [
        "# Number Game"
      ]
    },
    {
      "cell_type": "code",
      "metadata": {
        "id": "hmg8unvW7Ah6",
        "colab_type": "code",
        "colab": {}
      },
      "source": [
        "import ipywidgets as widgets\n",
        "from IPython.display import display\n",
        "import time"
      ],
      "execution_count": 0,
      "outputs": []
    },
    {
      "cell_type": "code",
      "metadata": {
        "id": "BlTO7dbu7wTf",
        "colab_type": "code",
        "colab": {}
      },
      "source": [
        "# Create your buttons\n",
        "button_yes = widgets.Button(description=\"Yes\", tooltip=\"Click me\")\n",
        "button_no = widgets.Button(description=\"No\", tooltip=\"Click me\")\n",
        "\n",
        "# Put them in a row – so you can see them side by side\n",
        "button_row = widgets.Box([button_yes,button_no])\n",
        "\n",
        "# Create a prompt row\n",
        "prompt_out = widgets.Output() # This is where the computer \"thinks\"...\n",
        "prompt_row = widgets.Box([prompt_out])\n"
      ],
      "execution_count": 0,
      "outputs": []
    },
    {
      "cell_type": "code",
      "metadata": {
        "id": "YZrl_mKyNmqO",
        "colab_type": "code",
        "colab": {}
      },
      "source": [
        "# This is the number I'm trying to solve for:\n",
        "your_number = 1\n",
        "all_numbers_tried = [your_number] # Start with the first number\n",
        "\n",
        "def ask_question(w):\n",
        "  global your_number\n",
        "  with w:\n",
        "    # 1\n",
        "    w.clear_output()\n",
        "    print(\"Choose a number 1-10\")\n",
        "    time.sleep(2)\n",
        "\n",
        "    # \"Think...\"\n",
        "    for i in range(4):\n",
        "      print(\"...\")\n",
        "      time.sleep(0.5)\n",
        "\n",
        "    # 2\n",
        "    w.clear_output()\n",
        "    print(\"Now I will try to guess your number\")\n",
        "    time.sleep(1)\n",
        "\n",
        "    # \"Think...\"\n",
        "    for i in range(4):\n",
        "      print(\"...\")\n",
        "      time.sleep(0.5)\n",
        "\n",
        "    # 3\n",
        "    w.clear_output()\n",
        "    print(\"...\")\n",
        "    print(f\"Is your number = {your_number} ?\")\n",
        "    \n",
        "prompt_out.on_displayed(ask_question)\n",
        "\n",
        "\n",
        "# ==============================================================================\n",
        "\n",
        "\n",
        "def is_this_your_number(b):\n",
        "  \"\"\"This is a callback\"\"\"\n",
        "\n",
        "  # If we don't state that these are global, the callback will break\n",
        "  global your_number, all_numbers_tried\n",
        "\n",
        "  # Which button did you press?\n",
        "  b_text = b.description\n",
        "\n",
        "  # If yes, end the game\n",
        "  if b_text==\"Yes\":\n",
        "    with prompt_out:\n",
        "      prompt_out.clear_output()\n",
        "      print(\"The game is over!\")\n",
        "      print(f\"We tried the following numbers: {all_numbers_tried}\")\n",
        "\n",
        "  # Try again\n",
        "  if b_text ==\"No\":\n",
        "    \n",
        "    # Since I started off with 1, add 1 and try again\n",
        "    your_number+=1\n",
        "\n",
        "    # Save the number you just guessed\n",
        "    all_numbers_tried.append(your_number)\n",
        "\n",
        "    with prompt_out:\n",
        "      prompt_out.clear_output()\n",
        "      print(\"Trying again...\")\n",
        "      print(f\"Is your number = {your_number}\")\n",
        "\n",
        "# Attach to both buttons\n",
        "button_yes.on_click(is_this_your_number)\n",
        "button_no.on_click(is_this_your_number)"
      ],
      "execution_count": 0,
      "outputs": []
    },
    {
      "cell_type": "code",
      "metadata": {
        "id": "S4C9iPFIN0ZI",
        "colab_type": "code",
        "colab": {}
      },
      "source": [
        "# Display it all at once\n",
        "display(prompt_out, button_row)"
      ],
      "execution_count": 0,
      "outputs": []
    },
    {
      "cell_type": "markdown",
      "metadata": {
        "id": "iQAzz-jHCQ-W",
        "colab_type": "text"
      },
      "source": [
        "# Change Color"
      ]
    },
    {
      "cell_type": "code",
      "metadata": {
        "id": "2UhxF-TN2u5P",
        "colab_type": "code",
        "colab": {}
      },
      "source": [
        "# You can change the color of a button when you click it\n",
        "\n",
        "new_button = widgets.Button(description=\"Change Color\")\n",
        "\n",
        "def change_color(b):\n",
        "  # Get the current color\n",
        "  c = b.style.button_color\n",
        "\n",
        "  # Change the color\n",
        "  if not c:\n",
        "    print(\"Turning ON\")\n",
        "    b.style.button_color = \"green\"\n",
        "  else:\n",
        "    print(\"Turning OFF\")\n",
        "    b.style.button_color = None\n",
        "\n",
        "\n",
        "# Attach the click event\n",
        "new_button.on_click(change_color)\n",
        "display(new_button)"
      ],
      "execution_count": 0,
      "outputs": []
    }
  ]
}