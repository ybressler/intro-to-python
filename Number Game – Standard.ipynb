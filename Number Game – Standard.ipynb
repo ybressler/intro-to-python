{
  "nbformat": 4,
  "nbformat_minor": 0,
  "metadata": {
    "colab": {
      "name": "Number Game – Standard.ipynb",
      "provenance": [],
      "private_outputs": true,
      "collapsed_sections": [
        "iQAzz-jHCQ-W"
      ],
      "authorship_tag": "ABX9TyO3WC/btRWR9vqx87s4a53g",
      "include_colab_link": true
    },
    "kernelspec": {
      "name": "python3",
      "display_name": "Python 3"
    }
  },
  "cells": [
    {
      "cell_type": "markdown",
      "metadata": {
        "id": "view-in-github",
        "colab_type": "text"
      },
      "source": [
        "<a href=\"https://colab.research.google.com/github/ybressler/intro-to-python/blob/master/Number%20Game%20%E2%80%93%20Standard.ipynb\" target=\"_parent\"><img src=\"https://colab.research.google.com/assets/colab-badge.svg\" alt=\"Open In Colab\"/></a>"
      ]
    },
    {
      "cell_type": "markdown",
      "metadata": {
        "id": "WBARMKTL6UKt",
        "colab_type": "text"
      },
      "source": [
        "# Number Game"
      ]
    },
    {
      "cell_type": "code",
      "metadata": {
        "id": "hmg8unvW7Ah6",
        "colab_type": "code",
        "colab": {}
      },
      "source": [
        "import ipywidgets as widgets\n",
        "from IPython.display import display\n",
        "import time"
      ],
      "execution_count": 0,
      "outputs": []
    },
    {
      "cell_type": "code",
      "metadata": {
        "id": "BlTO7dbu7wTf",
        "colab_type": "code",
        "colab": {}
      },
      "source": [
        "# Create your buttons\n",
        "button_yes = widgets.Button(description=\"Yes\", tooltip=\"Click me\")\n",
        "button_no = widgets.Button(description=\"No\", tooltip=\"Click me\")\n",
        "\n",
        "# Put them in a row – so you can see them side by side\n",
        "button_row = widgets.Box([button_yes,button_no])\n",
        "\n",
        "# Create a prompt row\n",
        "prompt_out = widgets.Output() # This is where the computer \"thinks\"...\n",
        "prompt_row = widgets.Box([prompt_out])\n"
      ],
      "execution_count": 0,
      "outputs": []
    },
    {
      "cell_type": "code",
      "metadata": {
        "id": "YZrl_mKyNmqO",
        "colab_type": "code",
        "colab": {}
      },
      "source": [
        "def ask_question(w):\n",
        "\n",
        "  with w:\n",
        "    # 1\n",
        "    w.clear_output()\n",
        "    print(\"Choose a number 1-10\")\n",
        "    time.sleep(2)\n",
        "\n",
        "    # \"Think...\"\n",
        "    for i in range(4):\n",
        "      print(\"...\")\n",
        "      time.sleep(0.5)\n",
        "\n",
        "    # 2\n",
        "    w.clear_output()\n",
        "    print(\"Now I will try to guess your number\")\n",
        "    time.sleep(2)\n",
        "\n",
        "    # \"Think...\"\n",
        "    for i in range(4):\n",
        "      print(\"...\")\n",
        "      time.sleep(0.5)\n",
        "\n",
        "    # 3\n",
        "    w.clear_output()\n",
        "    print(\"...\")\n",
        "    print(\"Is your number = 5 ?\")\n",
        "\n",
        "prompt_out.on_displayed(ask_question)"
      ],
      "execution_count": 0,
      "outputs": []
    },
    {
      "cell_type": "code",
      "metadata": {
        "id": "AKLqrOYv-_y5",
        "colab_type": "code",
        "colab": {}
      },
      "source": [
        "# Create your callbacks\n",
        "\n",
        "def on_yes(b):\n",
        "  # This is a callback for the button\n",
        "  print(\"Yes\")\n",
        "\n",
        "button_yes.on_click(on_yes)\n",
        "\n",
        "# =============================================\n",
        "\n",
        "def on_no(b):\n",
        "  # This is a callback for the button\n",
        "  print(\"No\")\n",
        "\n",
        "button_no.on_click(on_no)"
      ],
      "execution_count": 0,
      "outputs": []
    },
    {
      "cell_type": "code",
      "metadata": {
        "id": "S4C9iPFIN0ZI",
        "colab_type": "code",
        "colab": {}
      },
      "source": [
        "# Display it all at once\n",
        "display(prompt_out, button_row)"
      ],
      "execution_count": 0,
      "outputs": []
    },
    {
      "cell_type": "markdown",
      "metadata": {
        "id": "iQAzz-jHCQ-W",
        "colab_type": "text"
      },
      "source": [
        "# Change Color"
      ]
    },
    {
      "cell_type": "code",
      "metadata": {
        "id": "2UhxF-TN2u5P",
        "colab_type": "code",
        "colab": {}
      },
      "source": [
        "# You can change the color of a button when you click it\n",
        "\n",
        "new_button = widgets.Button(description=\"Change Color\")\n",
        "\n",
        "def change_color(b):\n",
        "  # Get the current color\n",
        "  c = b.style.button_color\n",
        "\n",
        "  # Change the color\n",
        "  if not c:\n",
        "    print(\"Turning ON\")\n",
        "    b.style.button_color = \"green\"\n",
        "  else:\n",
        "    print(\"Turning OFF\")\n",
        "    b.style.button_color = None\n",
        "\n",
        "\n",
        "# Attach the click event\n",
        "new_button.on_click(change_color)\n",
        "display(new_button)"
      ],
      "execution_count": 0,
      "outputs": []
    }
  ]
}