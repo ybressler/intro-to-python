{
  "nbformat": 4,
  "nbformat_minor": 0,
  "metadata": {
    "colab": {
      "name": "Module 3 – Analyzing Song Lyrics – Cardi B.ipynb",
      "provenance": [],
      "collapsed_sections": [
        "88f98MI3yAQa",
        "hgqAz1iYJ5-0",
        "jJHejJAeMcnt",
        "PGjVUOTeNAFJ",
        "48t_dt5fOVYM"
      ],
      "authorship_tag": "ABX9TyM3wip2TcLLku3jw9V4cmfp",
      "include_colab_link": true
    },
    "kernelspec": {
      "name": "python3",
      "display_name": "Python 3"
    }
  },
  "cells": [
    {
      "cell_type": "markdown",
      "metadata": {
        "id": "view-in-github",
        "colab_type": "text"
      },
      "source": [
        "<a href=\"https://colab.research.google.com/github/ybressler/intro-to-python/blob/master/Module%203%20%E2%80%93%20Analyzing%20Song%20Lyrics%20%E2%80%93%20Cardi%20B.ipynb\" target=\"_parent\"><img src=\"https://colab.research.google.com/assets/colab-badge.svg\" alt=\"Open In Colab\"/></a>"
      ]
    },
    {
      "cell_type": "markdown",
      "metadata": {
        "id": "oWgEytop5Qxy",
        "colab_type": "text"
      },
      "source": [
        "# Module 3 – Analyzing Song Lyrics – Cardi B\n",
        "\n",
        "*We'll be structuring, parsing, and analyzing data from Cardi B's discography.*\n",
        "\n",
        "\n",
        "---\n",
        "\n",
        "**Outline:**\n",
        "* load data from json\n",
        "* clean and structure data\n",
        "* visualize and explore"
      ]
    },
    {
      "cell_type": "code",
      "metadata": {
        "id": "hP7rvZ_F8UWq",
        "colab_type": "code",
        "colab": {}
      },
      "source": [
        "import re\n",
        "import json\n",
        "import requests\n",
        "import pandas as pd\n",
        "import datetime\n",
        "import matplotlib.pyplot as plt"
      ],
      "execution_count": 0,
      "outputs": []
    },
    {
      "cell_type": "code",
      "metadata": {
        "id": "qxnKHIvRuzqk",
        "colab_type": "code",
        "colab": {}
      },
      "source": [
        "# All of cardi b's music!\n",
        "data_path = \"https://storage.googleapis.com/yb-intro-to-python/cardi_b_all.json\"\n",
        "data = requests.get(data_path).json()"
      ],
      "execution_count": 0,
      "outputs": []
    },
    {
      "cell_type": "markdown",
      "metadata": {
        "id": "QvW90mgjxnRJ",
        "colab_type": "text"
      },
      "source": [
        "# 1. Introduction to manipulating data"
      ]
    },
    {
      "cell_type": "markdown",
      "metadata": {
        "id": "i2J1oxvWxscy",
        "colab_type": "text"
      },
      "source": [
        "# 1.1 Datetimes"
      ]
    },
    {
      "cell_type": "code",
      "metadata": {
        "id": "Q_NP78T_xuYP",
        "colab_type": "code",
        "colab": {}
      },
      "source": [
        "# a computer doesn't know that this string corresponds with the month June\n",
        "dt = '04/31/2017'"
      ],
      "execution_count": 0,
      "outputs": []
    },
    {
      "cell_type": "code",
      "metadata": {
        "id": "FAqW1SJYxxGd",
        "colab_type": "code",
        "colab": {}
      },
      "source": [
        "# Lets get the current time\n",
        "now = datetime.datetime.now()\n",
        "print(now)\n",
        "\n",
        "# reformat to the string we want\n",
        "# abbrev for --> str + f[ormat] + time\n",
        "now = now.strftime(\"%m/%d/%Y\")\n",
        "print(now)"
      ],
      "execution_count": 0,
      "outputs": []
    },
    {
      "cell_type": "code",
      "metadata": {
        "id": "AyEPjKjoxqS1",
        "colab_type": "code",
        "colab": {}
      },
      "source": [
        "# If I can create with srftime --> I can parse using the same method\n",
        "dt = '04/16/2017'\n",
        "dt = datetime.datetime.strptime(dt, \"%m/%d/%Y\")\n",
        "print(dt)"
      ],
      "execution_count": 0,
      "outputs": []
    },
    {
      "cell_type": "markdown",
      "metadata": {
        "id": "88f98MI3yAQa",
        "colab_type": "text"
      },
      "source": [
        "## 1.2 Loading into pandas"
      ]
    },
    {
      "cell_type": "code",
      "metadata": {
        "id": "EYapLZhhyCRa",
        "colab_type": "code",
        "colab": {}
      },
      "source": [
        "my_dict = {\n",
        "    \"Yaakov\":{\"color\":\"purple\",\"lunch\":\"sushi\"},\n",
        "    \"Selethal\":{\"color\":\"red\", \"lunch\":\"waffles\"}\n",
        "}\n",
        "\n",
        "# this is what the dataframe looks like\n",
        "pd.DataFrame.from_dict(my_dict).T"
      ],
      "execution_count": 0,
      "outputs": []
    },
    {
      "cell_type": "code",
      "metadata": {
        "id": "TzPj4QKyyDBm",
        "colab_type": "code",
        "colab": {}
      },
      "source": [
        "my_dict = {\n",
        "    \"Yaakov\":{\"color\":\"purple\",\"lunch\":\"sushi\"},\n",
        "    \"Selethal\":{\"color\":\"red\", \"lunch\":\"waffles\"},\n",
        "    \"Stephanie\":{\"color\":\"blue\", \"lunch\":\"noodles\"}\n",
        "}\n",
        "\n",
        "all_records = []\n",
        "for key, value in my_dict.items():\n",
        "  rec = {\"name\":key}\n",
        "  # Add the lunch\n",
        "  rec.update(value)\n",
        "\n",
        "  all_records.append(rec)\n",
        "\n",
        "\n",
        "all_records"
      ],
      "execution_count": 0,
      "outputs": []
    },
    {
      "cell_type": "code",
      "metadata": {
        "id": "ar9xQ7pzyFVq",
        "colab_type": "code",
        "colab": {}
      },
      "source": [
        "df = pd.DataFrame.from_records(all_records)\n",
        "df"
      ],
      "execution_count": 0,
      "outputs": []
    },
    {
      "cell_type": "code",
      "metadata": {
        "id": "S3BNw83Jx53S",
        "colab_type": "code",
        "colab": {}
      },
      "source": [
        ""
      ],
      "execution_count": 0,
      "outputs": []
    },
    {
      "cell_type": "markdown",
      "metadata": {
        "id": "Ga_Ony6T8drs",
        "colab_type": "text"
      },
      "source": [
        "# 2. Manipulate data"
      ]
    },
    {
      "cell_type": "markdown",
      "metadata": {
        "id": "aotz0y9fBqg5",
        "colab_type": "text"
      },
      "source": [
        "## 2.1 Load to pandas"
      ]
    },
    {
      "cell_type": "code",
      "metadata": {
        "id": "EwNULTbsBtgw",
        "colab_type": "code",
        "colab": {}
      },
      "source": [
        "# Make an empty list of records\n",
        "all_records = []\n",
        "\n",
        "for key, value in data.items():\n",
        "\n",
        "  # save the song name\n",
        "  rec = {\"song_name\":key}\n",
        "  \n",
        "  # save the others\n",
        "  rec.update(value)\n",
        "\n",
        "  # save for real now\n",
        "  all_records.append(rec)\n",
        "\n",
        "# Load to pandas\n",
        "df = pd.DataFrame.from_records(all_records)\n",
        "df"
      ],
      "execution_count": 0,
      "outputs": []
    },
    {
      "cell_type": "code",
      "metadata": {
        "id": "PBE61OcHDVbx",
        "colab_type": "code",
        "colab": {}
      },
      "source": [
        "# get summary\n",
        "df.describe()"
      ],
      "execution_count": 0,
      "outputs": []
    },
    {
      "cell_type": "code",
      "metadata": {
        "id": "rLI627piDWgR",
        "colab_type": "code",
        "colab": {}
      },
      "source": [
        "df.dtypes"
      ],
      "execution_count": 0,
      "outputs": []
    },
    {
      "cell_type": "markdown",
      "metadata": {
        "id": "F08DWnftCF-3",
        "colab_type": "text"
      },
      "source": [
        "## 2.4 Clean dates\n",
        "\n",
        "**Here's how it works:**\n",
        "* select a single column: `df[\"date_release\"]`\n",
        "* perfrom an operation on it...\n",
        "* `pd.to_datetime` works for strings, lists, and all the likes"
      ]
    },
    {
      "cell_type": "code",
      "metadata": {
        "id": "F_rIo6HGCVvT",
        "colab_type": "code",
        "colab": {}
      },
      "source": [
        "# Update the date!\n",
        "df[\"date_release\"] = df[\"date_release\"].apply(pd.to_datetime)"
      ],
      "execution_count": 0,
      "outputs": []
    },
    {
      "cell_type": "markdown",
      "metadata": {
        "id": "hWIwrihjyXR_",
        "colab_type": "text"
      },
      "source": [
        "## 2.5 Extract lines / breaks"
      ]
    },
    {
      "cell_type": "code",
      "metadata": {
        "id": "PehxgzwnCEY_",
        "colab_type": "code",
        "colab": {}
      },
      "source": [
        "def count_line_breaks(lyrics):\n",
        "  \"\"\"\n",
        "  counts the number of line breaks while removing verse type\n",
        "  \"\"\"\n",
        "\n",
        "  # n_no_clean = len(lyrics.split(\"\\n\"))\n",
        "  # print(f\"no cleaning at all: {n_no_clean}\")\n",
        "  \n",
        "  n_lines = 0\n",
        "\n",
        "  for x in lyrics.split(\"\\n\"):\n",
        "    x = x.strip() # get rid of extra space at end\n",
        "    if x==\"\":\n",
        "      continue # I don't want to even see you. Next please!\n",
        "      \n",
        "    # what do these lines look like?\n",
        "    if \"[\" in x:\n",
        "      continue\n",
        "\n",
        "    n_lines+=1 # keep counting until I say you stop goddamit\n",
        "\n",
        "  return n_lines\n",
        "\n",
        "\n",
        "# # Use my function – for testing\n",
        "# lyrics = df[\"lyrics\"][2]\n",
        "# count_line_breaks(lyrics)\n",
        "\n",
        "# actually use\n",
        "df[\"lyrics_n_lines\"] = df[\"lyrics\"].apply(count_line_breaks)"
      ],
      "execution_count": 0,
      "outputs": []
    },
    {
      "cell_type": "markdown",
      "metadata": {
        "id": "9ZR22xjEyrWW",
        "colab_type": "text"
      },
      "source": [
        "## 2.6 Extract word counts"
      ]
    },
    {
      "cell_type": "code",
      "metadata": {
        "id": "0n0DFfZvGPvy",
        "colab_type": "code",
        "colab": {}
      },
      "source": [
        "# Let's count how many times Cardi B says \"money\" in each song\n",
        "\n",
        "def count_words(string, word=\"money\"):\n",
        "  \"\"\"\n",
        "  This will let you count all sorts of words\n",
        "  \"\"\"\n",
        "\n",
        "  # an okay method\n",
        "  # n = string.lower().count(word)\n",
        "\n",
        "\n",
        "  # a more powerful method\n",
        "  # Lets you search all sorts of stuff\n",
        "  pattern = re.compile(word, re.I)\n",
        "  n = len(pattern.findall(string))\n",
        "\n",
        "  return n\n"
      ],
      "execution_count": 0,
      "outputs": []
    },
    {
      "cell_type": "code",
      "metadata": {
        "id": "A35CjKeEGx-j",
        "colab_type": "code",
        "colab": {}
      },
      "source": [
        "all_words = [\"money\",\"bitch\",\"fuck\",\"\\\\bass\\\\b\",\"\\\\bshit\\\\b\",\"hoes\",\"ain\\'t\", \"mama\",\"dance\",\"I\\\\b\", \"you\\\\b\", \"\\\\bhe\\\\b\", \"\\\\bshe\\\\b\"]\n",
        "\n",
        "for word in all_words:\n",
        "  col_name = word.replace(\"\\\\b\",\"\")\n",
        "  # df[col_name] = df[\"lyrics\"].apply(count_words, word=word) # set params outside of the function"
      ],
      "execution_count": 0,
      "outputs": []
    },
    {
      "cell_type": "code",
      "metadata": {
        "id": "_pLOwgMsJdMQ",
        "colab_type": "code",
        "colab": {}
      },
      "source": [
        "df[\"n_curse_words\"] = df[[\"bitch\",\"fuck\",\"ass\",\"shit\",\"hoes\"]].sum(axis=1) # get the sum, rowwise\n",
        "df"
      ],
      "execution_count": 0,
      "outputs": []
    },
    {
      "cell_type": "markdown",
      "metadata": {
        "id": "hgqAz1iYJ5-0",
        "colab_type": "text"
      },
      "source": [
        "# 3. Visualize"
      ]
    },
    {
      "cell_type": "markdown",
      "metadata": {
        "id": "jJHejJAeMcnt",
        "colab_type": "text"
      },
      "source": [
        "## 3.1 Explore\n",
        "\n",
        "What are we curious about?\n",
        "* How does word usage change over time?\n",
        "* When are her songs shorter instead of longer?\n",
        "* When are her choruses more complex?\n",
        "* How often does she repeat the same word?\n",
        "* Gender parity in her lyrics?\n",
        "* Female power in her lyrics?"
      ]
    },
    {
      "cell_type": "markdown",
      "metadata": {
        "id": "PGjVUOTeNAFJ",
        "colab_type": "text"
      },
      "source": [
        "### 3.1.1 Time\n",
        "\n",
        "Set axis to time – and boom. *(This is why we love pandas)*"
      ]
    },
    {
      "cell_type": "code",
      "metadata": {
        "id": "HJSkTCNYNCNy",
        "colab_type": "code",
        "colab": {}
      },
      "source": [
        "df_new = df.set_index(\"date_release\")"
      ],
      "execution_count": 0,
      "outputs": []
    },
    {
      "cell_type": "code",
      "metadata": {
        "id": "So6n3YbTNGiG",
        "colab_type": "code",
        "colab": {}
      },
      "source": [
        "df_new.plot(figsize=(14,5))"
      ],
      "execution_count": 0,
      "outputs": []
    },
    {
      "cell_type": "code",
      "metadata": {
        "id": "cy3vs-4oOLB9",
        "colab_type": "code",
        "colab": {}
      },
      "source": [
        "df_new.plot(figsize=(14,5))\n",
        "plt.yscale(\"log\")"
      ],
      "execution_count": 0,
      "outputs": []
    },
    {
      "cell_type": "code",
      "metadata": {
        "id": "7VximylEONlE",
        "colab_type": "code",
        "colab": {}
      },
      "source": [
        "df_new[\"n_curse_words\"].plot(figsize=(14,4))"
      ],
      "execution_count": 0,
      "outputs": []
    },
    {
      "cell_type": "markdown",
      "metadata": {
        "id": "48t_dt5fOVYM",
        "colab_type": "text"
      },
      "source": [
        "### 3.1.2 Song length"
      ]
    },
    {
      "cell_type": "code",
      "metadata": {
        "id": "p034Gg6POhSR",
        "colab_type": "code",
        "colab": {}
      },
      "source": [
        "df.head(1)"
      ],
      "execution_count": 0,
      "outputs": []
    },
    {
      "cell_type": "code",
      "metadata": {
        "id": "OzB4jRuJOY7V",
        "colab_type": "code",
        "colab": {}
      },
      "source": [
        "x_col = \"lyrics_n_lines\"\n",
        "y_col = \"n_curse_words\"\n",
        "\n",
        "plt.figure(figsize=(6,2))\n",
        "plt.scatter(x=df[x_col], y=df[y_col])\n",
        "\n",
        "plt.xlabel(x_col)\n",
        "plt.ylabel(y_col)\n",
        "\n",
        "plt.show()"
      ],
      "execution_count": 0,
      "outputs": []
    },
    {
      "cell_type": "code",
      "metadata": {
        "id": "KCI9CyP4O7Zq",
        "colab_type": "code",
        "colab": {}
      },
      "source": [
        "x_col = \"lyrics_n_lines\"\n",
        "\n",
        "for y_col in df.drop(columns=[\"lyrics\"]).columns:\n",
        "  plt.figure(figsize=(6,2))\n",
        "  plt.scatter(x=df[x_col], y=df[y_col])\n",
        "\n",
        "  plt.xlabel(x_col)\n",
        "  plt.ylabel(y_col)\n",
        "\n",
        "  plt.show()"
      ],
      "execution_count": 0,
      "outputs": []
    },
    {
      "cell_type": "markdown",
      "metadata": {
        "id": "_zUAjJI2Ph88",
        "colab_type": "text"
      },
      "source": [
        "### 3.1.3 Repeat words"
      ]
    },
    {
      "cell_type": "code",
      "metadata": {
        "id": "wj58H5OEOUua",
        "colab_type": "code",
        "colab": {}
      },
      "source": [
        "use_cols = ['lyrics_n_lines', 'money',\n",
        "       'bitch', 'fuck', 'hoes', 'ain\\'t', 'mama', 'dance', 'I\\b', 'you\\b',\n",
        "       '\\bhe\\b', '\\bshe\\b', '\\bass\\b', '\\bshit\\b', 'n_curse_words']\n",
        "       "
      ],
      "execution_count": 0,
      "outputs": []
    },
    {
      "cell_type": "code",
      "metadata": {
        "id": "kZGMl2NEP4t8",
        "colab_type": "code",
        "colab": {}
      },
      "source": [
        "corr = df[df.columns.drop([\"lyrics\",\"song_name\",\"date_release\"])].corr()\n",
        "\n",
        "size = 12\n",
        "fig, ax = plt.subplots(figsize=(size, size))\n",
        "ax.matshow(corr)\n",
        "plt.xticks(range(len(corr.columns)), corr.columns);\n",
        "plt.yticks(range(len(corr.columns)), corr.columns);"
      ],
      "execution_count": 0,
      "outputs": []
    },
    {
      "cell_type": "markdown",
      "metadata": {
        "id": "tdQsxDQhPopj",
        "colab_type": "text"
      },
      "source": [
        "### 3.1.4 Gender Parity"
      ]
    },
    {
      "cell_type": "code",
      "metadata": {
        "id": "3J2pRaJrMgUW",
        "colab_type": "code",
        "colab": {}
      },
      "source": [
        "plt.scatter(\n",
        "    x = df[\"\\\\bhe\\\\b\"],\n",
        "    y = df[\"\\\\bshe\\\\b\"]\n",
        ")\n",
        "\n",
        "plt.xlabel(\"HE\", color=\"blue\", weight=\"bold\")\n",
        "plt.ylabel(\"SHE\", color=\"purple\", weight=\"bold\")\n",
        "\n",
        "plt.show()"
      ],
      "execution_count": 0,
      "outputs": []
    },
    {
      "cell_type": "markdown",
      "metadata": {
        "id": "DD4Q476PMg2f",
        "colab_type": "text"
      },
      "source": [
        "## 3.2 Exact\n",
        "\n",
        "What is a specific research question?\n",
        "_You get back to us!_"
      ]
    },
    {
      "cell_type": "markdown",
      "metadata": {
        "id": "gsAlEcCDRf60",
        "colab_type": "text"
      },
      "source": [
        "# Next steps!"
      ]
    },
    {
      "cell_type": "code",
      "metadata": {
        "id": "O646HKasRg04",
        "colab_type": "code",
        "colab": {}
      },
      "source": [
        "# to be continued"
      ],
      "execution_count": 0,
      "outputs": []
    }
  ]
}