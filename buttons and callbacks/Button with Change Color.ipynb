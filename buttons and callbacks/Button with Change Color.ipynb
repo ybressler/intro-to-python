{
  "nbformat": 4,
  "nbformat_minor": 0,
  "metadata": {
    "colab": {
      "name": "Button with Change Color.ipynb",
      "provenance": [],
      "private_outputs": true,
      "collapsed_sections": [
        "0xXcvKaN1h0J"
      ],
      "authorship_tag": "ABX9TyM0e3a5RD8wjgNQ6eSkNZER",
      "include_colab_link": true
    },
    "kernelspec": {
      "name": "python3",
      "display_name": "Python 3"
    }
  },
  "cells": [
    {
      "cell_type": "markdown",
      "metadata": {
        "id": "view-in-github",
        "colab_type": "text"
      },
      "source": [
        "<a href=\"https://colab.research.google.com/github/ybressler/intro-to-python/blob/master/buttons%20and%20callbacks/Button%20with%20Change%20Color.ipynb\" target=\"_parent\"><img src=\"https://colab.research.google.com/assets/colab-badge.svg\" alt=\"Open In Colab\"/></a>"
      ]
    },
    {
      "cell_type": "markdown",
      "metadata": {
        "id": "bm-zP1u51JCo",
        "colab_type": "text"
      },
      "source": [
        "# Create a Button which Changes Color"
      ]
    },
    {
      "cell_type": "code",
      "metadata": {
        "id": "dWTGeC6h1Jpx",
        "colab_type": "code",
        "colab": {}
      },
      "source": [
        "import ipywidgets as widgets\n",
        "from IPython.display import display\n",
        "import time"
      ],
      "execution_count": 0,
      "outputs": []
    },
    {
      "cell_type": "markdown",
      "metadata": {
        "id": "T_EgxY9_1fyQ",
        "colab_type": "text"
      },
      "source": [
        "## Create the Button"
      ]
    },
    {
      "cell_type": "code",
      "metadata": {
        "id": "I2CqUrog1Jxt",
        "colab_type": "code",
        "colab": {}
      },
      "source": [
        "# Create the style\n",
        "my_style = widgets.ButtonStyle(\n",
        "    button_color = \"gold\",\n",
        "    font_weight = \"bold\",\n",
        "    )\n",
        "\n",
        "# create the button\n",
        "my_button = widgets.Button(\n",
        "    icon = \"thumbs-up\",\n",
        "    style = my_style)\n",
        "\n",
        "# This code allows the icon be shown on Google Colab\n",
        "display(widgets.HTML(\"\"\"<link rel=\"stylesheet\" href=\"https://stackpath.bootstrapcdn.com/font-awesome/4.7.0/css/font-awesome.min.css\">\"\"\"))\n",
        "# Show the actual button\n",
        "display(my_button)"
      ],
      "execution_count": 0,
      "outputs": []
    },
    {
      "cell_type": "markdown",
      "metadata": {
        "id": "0xXcvKaN1h0J",
        "colab_type": "text"
      },
      "source": [
        "## Create the callback"
      ]
    },
    {
      "cell_type": "code",
      "metadata": {
        "id": "Q24hQZZ31Qq8",
        "colab_type": "code",
        "colab": {}
      },
      "source": [
        "# You can change the color of a button when you click it\n",
        "\n",
        "\n",
        "def change_color(b):\n",
        "  # Get the current color\n",
        "  c = b.style.button_color\n",
        "\n",
        "  # Change the color\n",
        "  if c == \"gold\":\n",
        "    print(\"Turning ON\")\n",
        "    b.style.button_color = \"darkred\"\n",
        "    # Change the icon\n",
        "    b.icon = \"thumbs-down\"\n",
        "\n",
        "  else:\n",
        "    print(\"Turning OFF\")\n",
        "    b.style.button_color = \"gold\"\n",
        "    # Change the icon\n",
        "    b.icon = \"thumbs-up\"\n",
        "\n",
        "\n",
        "# Attach the click event\n",
        "my_button.on_click(change_color)"
      ],
      "execution_count": 0,
      "outputs": []
    },
    {
      "cell_type": "markdown",
      "metadata": {
        "id": "BQ_IcR-cVU5P",
        "colab_type": "text"
      },
      "source": [
        "# Same Button but with Dynamic Programming"
      ]
    },
    {
      "cell_type": "markdown",
      "metadata": {
        "id": "HZpb7A94VcLa",
        "colab_type": "text"
      },
      "source": [
        "## Store your style values"
      ]
    },
    {
      "cell_type": "code",
      "metadata": {
        "id": "j7C9y4oFVW0T",
        "colab_type": "code",
        "colab": {}
      },
      "source": [
        "my_stuff = {\n",
        "    \"start_color\":\"gold\",\n",
        "    \"end_color\":\"blue\",\n",
        "    \"start_icon\":\"thumbs-up\",\n",
        "    \"end_icon\":\"thumbs-down\"\n",
        "}"
      ],
      "execution_count": 0,
      "outputs": []
    },
    {
      "cell_type": "markdown",
      "metadata": {
        "id": "5h8jvdEEVYQ8",
        "colab_type": "text"
      },
      "source": [
        "## Create the Button"
      ]
    },
    {
      "cell_type": "code",
      "metadata": {
        "id": "LsQi4uo3UmOV",
        "colab_type": "code",
        "colab": {}
      },
      "source": [
        "# Create the style\n",
        "my_style = widgets.ButtonStyle(\n",
        "    button_color = my_stuff[\"start_color\"],\n",
        "    )\n",
        "\n",
        "# create the buttons\n",
        "my_button = widgets.Button(\n",
        "    icon = my_stuff[\"start_icon\"],\n",
        "    style = my_style)\n",
        "\n",
        "# This code allows the icon be shown on Google Colab\n",
        "display(widgets.HTML(\"\"\"<link rel=\"stylesheet\" href=\"https://stackpath.bootstrapcdn.com/font-awesome/4.7.0/css/font-awesome.min.css\">\"\"\"))\n",
        "# Show the actual button\n",
        "display(my_button)"
      ],
      "execution_count": 0,
      "outputs": []
    },
    {
      "cell_type": "markdown",
      "metadata": {
        "id": "VPPhbM_uVZLG",
        "colab_type": "text"
      },
      "source": [
        "## Create the Callback"
      ]
    },
    {
      "cell_type": "code",
      "metadata": {
        "id": "nJOIB8ikUnrp",
        "colab_type": "code",
        "colab": {}
      },
      "source": [
        "# You can change the color of a button when you click it\n",
        "\n",
        "\n",
        "def change_color(b):\n",
        "  # Get the current color\n",
        "  c = b.style.button_color\n",
        "\n",
        "  # Change the color\n",
        "  if c == my_stuff[\"start_color\"]:\n",
        "    print(\"Turning ON\")\n",
        "    b.style.button_color = my_stuff[\"end_color\"]\n",
        "    # Change the icon\n",
        "    b.icon = my_stuff[\"end_icon\"]\n",
        "\n",
        "  else:\n",
        "    print(\"Turning OFF\")\n",
        "    b.style.button_color = my_stuff[\"start_color\"]\n",
        "    # Change the icon\n",
        "    b.icon = my_stuff[\"start_icon\"]\n",
        "\n",
        "\n",
        "# Attach the click event\n",
        "my_button.on_click(change_color)"
      ],
      "execution_count": 0,
      "outputs": []
    },
    {
      "cell_type": "code",
      "metadata": {
        "id": "nqXl0xalUoH7",
        "colab_type": "code",
        "colab": {}
      },
      "source": [
        ""
      ],
      "execution_count": 0,
      "outputs": []
    }
  ]
}