{
  "nbformat": 4,
  "nbformat_minor": 0,
  "metadata": {
    "colab": {
      "name": "Button with Change-Color.ipynb",
      "provenance": [],
      "private_outputs": true,
      "collapsed_sections": [],
      "authorship_tag": "ABX9TyMnclNMlJlRLkOJrWVTP0I4",
      "include_colab_link": true
    },
    "kernelspec": {
      "name": "python3",
      "display_name": "Python 3"
    }
  },
  "cells": [
    {
      "cell_type": "markdown",
      "metadata": {
        "id": "view-in-github",
        "colab_type": "text"
      },
      "source": [
        "<a href=\"https://colab.research.google.com/github/ybressler/intro-to-python/blob/master/buttons%20and%20callbacks/Button%20with%20Change%20Color.ipynb\" target=\"_parent\"><img src=\"https://colab.research.google.com/assets/colab-badge.svg\" alt=\"Open In Colab\"/></a>"
      ]
    },
    {
      "cell_type": "markdown",
      "metadata": {
        "id": "bm-zP1u51JCo",
        "colab_type": "text"
      },
      "source": [
        "# Create a Button which Changes Color"
      ]
    },
    {
      "cell_type": "code",
      "metadata": {
        "id": "dWTGeC6h1Jpx",
        "colab_type": "code",
        "colab": {}
      },
      "source": [
        "import ipywidgets as widgets\n",
        "from IPython.display import display\n",
        "import time"
      ],
      "execution_count": 0,
      "outputs": []
    },
    {
      "cell_type": "markdown",
      "metadata": {
        "id": "T_EgxY9_1fyQ",
        "colab_type": "text"
      },
      "source": [
        "## Create the Button"
      ]
    },
    {
      "cell_type": "code",
      "metadata": {
        "id": "I2CqUrog1Jxt",
        "colab_type": "code",
        "colab": {}
      },
      "source": [
        "# Create the style\n",
        "my_style = widgets.ButtonStyle(\n",
        "    button_color='lightblue',\n",
        "    font_weight=\"light\"\n",
        "    )\n",
        "\n",
        "# create the buttons\n",
        "my_button = widgets.Button(\n",
        "    description=\"click me\",\n",
        "    style = my_style)\n",
        "\n",
        "display(my_button)"
      ],
      "execution_count": 0,
      "outputs": []
    },
    {
      "cell_type": "markdown",
      "metadata": {
        "id": "0xXcvKaN1h0J",
        "colab_type": "text"
      },
      "source": [
        "## Create the callback"
      ]
    },
    {
      "cell_type": "code",
      "metadata": {
        "id": "Q24hQZZ31Qq8",
        "colab_type": "code",
        "colab": {}
      },
      "source": [
        "# You can change the color of a button when you click it\n",
        "\n",
        "\n",
        "def change_color(b):\n",
        "  # Get the current color\n",
        "  c = b.style.button_color\n",
        "\n",
        "  # Change the color\n",
        "  if c== \"lightblue\":\n",
        "    print(\"Turning ON\")\n",
        "    b.style.button_color = \"green\"\n",
        "  else:\n",
        "    print(\"Turning OFF\")\n",
        "    b.style.button_color = \"lightblue\"\n",
        "\n",
        "\n",
        "# Attach the click event\n",
        "my_button.on_click(change_color)"
      ],
      "execution_count": 0,
      "outputs": []
    },
    {
      "cell_type": "code",
      "metadata": {
        "id": "P1JEpiV91mHn",
        "colab_type": "code",
        "colab": {}
      },
      "source": [
        ""
      ],
      "execution_count": 0,
      "outputs": []
    }
  ]
}