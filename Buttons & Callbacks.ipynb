{
  "nbformat": 4,
  "nbformat_minor": 0,
  "metadata": {
    "colab": {
      "name": "Buttons & Callbacks.ipynb",
      "provenance": [],
      "private_outputs": true,
      "collapsed_sections": [
        "AIo4hz1LcwE4",
        "gnsgIj_5rn5X",
        "-xHaDPLMX64d"
      ],
      "authorship_tag": "ABX9TyNIMPAAiuFlLVFCO4159nRv",
      "include_colab_link": true
    },
    "kernelspec": {
      "name": "python3",
      "display_name": "Python 3"
    }
  },
  "cells": [
    {
      "cell_type": "markdown",
      "metadata": {
        "id": "view-in-github",
        "colab_type": "text"
      },
      "source": [
        "<a href=\"https://colab.research.google.com/github/ybressler/intro-to-python/blob/master/Buttons%20%26%20Callbacks.ipynb\" target=\"_parent\"><img src=\"https://colab.research.google.com/assets/colab-badge.svg\" alt=\"Open In Colab\"/></a>"
      ]
    },
    {
      "cell_type": "markdown",
      "metadata": {
        "id": "SM-Kx39BWrJp",
        "colab_type": "text"
      },
      "source": [
        "<font size=10>\n",
        "Buttons and Callbacks\n",
        "</font>\n",
        "\n",
        "Read more about [ipywidgets](https://ipywidgets.readthedocs.io/)."
      ]
    },
    {
      "cell_type": "markdown",
      "metadata": {
        "id": "1weeBnJaWzZk",
        "colab_type": "text"
      },
      "source": [
        "# 1. Create a Button"
      ]
    },
    {
      "cell_type": "code",
      "metadata": {
        "id": "QnsdNmqaV6np",
        "colab_type": "code",
        "colab": {}
      },
      "source": [
        "import ipywidgets as widgets\n",
        "from IPython.display import display\n",
        "\n",
        "# Create a button\n",
        "button = widgets.Button(description=\"Click Me!\")\n",
        "\n",
        "# Create output\n",
        "output = widgets.Output()\n",
        "\n",
        "# Show them\n",
        "display(button, output)"
      ],
      "execution_count": 0,
      "outputs": []
    },
    {
      "cell_type": "markdown",
      "metadata": {
        "id": "BjGWmNkAXNTa",
        "colab_type": "text"
      },
      "source": [
        "# 2. Add a callback"
      ]
    },
    {
      "cell_type": "code",
      "metadata": {
        "id": "aGwib7lkXAeD",
        "colab_type": "code",
        "colab": {}
      },
      "source": [
        "def on_button_clicked(b):\n",
        "  # Display the message within the output widget.\n",
        "  with output:\n",
        "    print(\"Button clicked.\")\n",
        "\n",
        "button.on_click(on_button_clicked)"
      ],
      "execution_count": 0,
      "outputs": []
    },
    {
      "cell_type": "markdown",
      "metadata": {
        "id": "kBviRuloXXbj",
        "colab_type": "text"
      },
      "source": [
        "# 3. Make a Dropdown"
      ]
    },
    {
      "cell_type": "code",
      "metadata": {
        "id": "FfgE0GQZXbF1",
        "colab_type": "code",
        "colab": {}
      },
      "source": [
        "widgets.Dropdown(\n",
        "    options=[1,2,3]\n",
        "    )"
      ],
      "execution_count": 0,
      "outputs": []
    },
    {
      "cell_type": "code",
      "metadata": {
        "id": "n_A3iNB6cPGh",
        "colab_type": "code",
        "colab": {}
      },
      "source": [
        "widgets.Dropdown(\n",
        "    options={\"Hello\":1,\"World\":2}\n",
        "    )"
      ],
      "execution_count": 0,
      "outputs": []
    },
    {
      "cell_type": "markdown",
      "metadata": {
        "id": "AIo4hz1LcwE4",
        "colab_type": "text"
      },
      "source": [
        "# 4. Make a Slider"
      ]
    },
    {
      "cell_type": "code",
      "metadata": {
        "id": "KDuIPEfAcyRz",
        "colab_type": "code",
        "colab": {}
      },
      "source": [
        "slider = widgets.IntSlider(value=5, max=10)\n",
        "display(slider)"
      ],
      "execution_count": 0,
      "outputs": []
    },
    {
      "cell_type": "code",
      "metadata": {
        "id": "6olGwm5jcysu",
        "colab_type": "code",
        "colab": {}
      },
      "source": [
        ""
      ],
      "execution_count": 0,
      "outputs": []
    },
    {
      "cell_type": "markdown",
      "metadata": {
        "id": "gnsgIj_5rn5X",
        "colab_type": "text"
      },
      "source": [
        "# 5. More Widgets!\n",
        "\n",
        "A full [list of widgets](https://ipywidgets.readthedocs.io/en/stable/examples/Widget%20List.html)."
      ]
    },
    {
      "cell_type": "code",
      "metadata": {
        "id": "YY3OHOg_rqY2",
        "colab_type": "code",
        "colab": {}
      },
      "source": [
        "widgets.ColorPicker(\n",
        "    concise=False,\n",
        "    description='Pick a color',\n",
        "    value='blue',\n",
        "    disabled=False\n",
        ")"
      ],
      "execution_count": 0,
      "outputs": []
    },
    {
      "cell_type": "code",
      "metadata": {
        "id": "LVWnuXsAr3si",
        "colab_type": "code",
        "colab": {}
      },
      "source": [
        ""
      ],
      "execution_count": 0,
      "outputs": []
    },
    {
      "cell_type": "markdown",
      "metadata": {
        "id": "-xHaDPLMX64d",
        "colab_type": "text"
      },
      "source": [
        "# 6. Data _(Yaakov Shwekey)_"
      ]
    },
    {
      "cell_type": "code",
      "metadata": {
        "id": "rKF2xcQlX6VO",
        "colab_type": "code",
        "colab": {}
      },
      "source": [
        "data = {\n",
        "    \"Artist\":\"Yaakov Shwekey\",\n",
        "    \"Albums\":{\n",
        "        \"Kolot\":{\n",
        "            \"Year\":2014,\n",
        "            \"Songs\":{\n",
        "                \"Am Yisrael\":{\n",
        "                  \"Order\":1,\n",
        "                  \"Length\":\"4:10\"\n",
        "                  },\n",
        "                \"Kolot\":{\n",
        "                  \"Order\":2,\n",
        "                  \"Length\":\"5:06\"\n",
        "                  },\n",
        "                \"Smeichim\":{\n",
        "                  \"Order\":3,\n",
        "                  \"Length\":\"5:05\"\n",
        "                },\n",
        "                \"Smeichim\":{\n",
        "                  \"Order\":4,\n",
        "                  \"Length\":\"5:05\"\n",
        "                },\n",
        "                \"Tefilat Kallah\":{\n",
        "                  \"Order\":5,\n",
        "                  \"Length\":\"5:16\"\n",
        "                },\n",
        "                \"Zeh Hakatan\":{\n",
        "                  \"Order\":6,\n",
        "                  \"Length\":\"4:43\"\n",
        "                },\n",
        "                \"Osim Tshuvah\":{\n",
        "                  \"Order\":7,\n",
        "                  \"Length\":\"4:25\"\n",
        "                },\n",
        "                \"Kamu Baneha\":{\n",
        "                  \"Order\":8,\n",
        "                  \"Length\":\"5:51\"\n",
        "                },\n",
        "                \"Et Rikod\":{\n",
        "                  \"Order\":8,\n",
        "                  \"Length\":\"4:13\"\n",
        "                },\n",
        "                \"Assara Bnei Adam\":{\n",
        "                  \"Order\":8,\n",
        "                  \"Length\":\"4:07\"\n",
        "              }\n",
        "          }\n",
        "        },\n",
        "        \"Ad Bli Dai\":{\n",
        "            \"Year\":2008,\n",
        "            \"Songs\":{\n",
        "                \"Areivim\":{\n",
        "                  \"Order\":1,\n",
        "                  \"Length\":\"5:46\"\n",
        "                  },\n",
        "                # Complete later...\n",
        "            }\n",
        "        }\n",
        "    }\n",
        "}\n"
      ],
      "execution_count": 0,
      "outputs": []
    },
    {
      "cell_type": "markdown",
      "metadata": {
        "id": "I0XSsIlhaILS",
        "colab_type": "text"
      },
      "source": [
        "# 5. Connect Dropdown to data!"
      ]
    },
    {
      "cell_type": "code",
      "metadata": {
        "id": "VzFuX5oUaLPD",
        "colab_type": "code",
        "cellView": "both",
        "colab": {}
      },
      "source": [
        "# Choose only the albums\n",
        "albums = data[\"Albums\"].keys()\n",
        "dropdown = widgets.Dropdown(\n",
        "    options=albums,\n",
        "    description='Album:',\n",
        "    )\n",
        "\n",
        "# Create a button\n",
        "button_2 = widgets.Button(description=\"Click Me!\")\n",
        "\n",
        "# Create output\n",
        "output_2 = widgets.Output()\n",
        "\n",
        "# Display them:\n",
        "print(\"Choose an album:\")\n",
        "display(dropdown,button_2,output_2)"
      ],
      "execution_count": 0,
      "outputs": []
    },
    {
      "cell_type": "code",
      "metadata": {
        "id": "BCklJDVrZbbb",
        "colab_type": "code",
        "cellView": "both",
        "colab": {}
      },
      "source": [
        "def on_dropdown_choice(b):\n",
        "  # Display the message within the output widget.\n",
        "  with output_2:\n",
        "    print(f\"Current choice is: {dropdown.value}\")\n",
        "\n",
        "# dropdown.on_trait_change(on_dropdown_choice, name=\"value\")\n",
        "button_2.on_click(on_dropdown_choice)"
      ],
      "execution_count": 0,
      "outputs": []
    },
    {
      "cell_type": "markdown",
      "metadata": {
        "id": "liVtAKEFckk8",
        "colab_type": "text"
      },
      "source": [
        "# 6. One Step Further"
      ]
    },
    {
      "cell_type": "code",
      "metadata": {
        "id": "9bHbr9MksJNQ",
        "colab_type": "code",
        "colab": {}
      },
      "source": [
        "# Choose only the albums\n",
        "albums = data[\"Albums\"].keys()\n",
        "dropdown = widgets.Dropdown(\n",
        "    options=albums,\n",
        "    description='Album:',\n",
        "    )\n",
        "\n",
        "# Create a button\n",
        "button_2 = widgets.Button(description=\"Click Me!\")\n",
        "\n",
        "# Create output\n",
        "output_2 = widgets.Output()\n",
        "\n",
        "# Display them:\n",
        "print(\"Choose an album:\")\n",
        "display(dropdown,button_2,output_2)"
      ],
      "execution_count": 0,
      "outputs": []
    },
    {
      "cell_type": "code",
      "metadata": {
        "id": "nodl8ixpcnHy",
        "colab_type": "code",
        "colab": {}
      },
      "source": [
        "def on_dropdown_choice(b):\n",
        "  # Display the message within the output widget.\n",
        "  my_album = dropdown.value\n",
        "  with output_2:\n",
        "    print(f\"Data for this album:\", data[\"Albums\"][my_album])\n",
        "\n",
        "# dropdown.on_trait_change(on_dropdown_choice, name=\"value\")\n",
        "button_2.on_click(on_dropdown_choice)"
      ],
      "execution_count": 0,
      "outputs": []
    },
    {
      "cell_type": "markdown",
      "metadata": {
        "id": "uNkUgYP5sKT6",
        "colab_type": "text"
      },
      "source": [
        "# 7. Select Songs that are > 5 minutes in length\n",
        "\n",
        "_Do on your own?_"
      ]
    },
    {
      "cell_type": "code",
      "metadata": {
        "id": "DihN7lKssPuF",
        "colab_type": "code",
        "colab": {}
      },
      "source": [
        ""
      ],
      "execution_count": 0,
      "outputs": []
    }
  ]
}