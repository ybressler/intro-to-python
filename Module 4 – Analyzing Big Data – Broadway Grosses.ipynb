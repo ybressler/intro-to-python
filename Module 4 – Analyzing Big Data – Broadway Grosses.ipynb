{
  "nbformat": 4,
  "nbformat_minor": 0,
  "metadata": {
    "colab": {
      "name": "Module 4 – Analyzing Big Data – Broadway Grosses.ipynb",
      "provenance": [],
      "private_outputs": true,
      "collapsed_sections": [],
      "authorship_tag": "ABX9TyP7B9j1hen6Q5AsTHfScd8h",
      "include_colab_link": true
    },
    "kernelspec": {
      "name": "python3",
      "display_name": "Python 3"
    }
  },
  "cells": [
    {
      "cell_type": "markdown",
      "metadata": {
        "id": "view-in-github",
        "colab_type": "text"
      },
      "source": [
        "<a href=\"https://colab.research.google.com/github/ybressler/intro-to-python/blob/master/Module%204%20%E2%80%93%20Analyzing%20Big%20Data%20%E2%80%93%20Broadway%20Grosses.ipynb\" target=\"_parent\"><img src=\"https://colab.research.google.com/assets/colab-badge.svg\" alt=\"Open In Colab\"/></a>"
      ]
    },
    {
      "cell_type": "markdown",
      "metadata": {
        "id": "oWgEytop5Qxy",
        "colab_type": "text"
      },
      "source": [
        "# Module 4 – Analyzing Big Data – Grosses for Hamilton on Broadway\n",
        "\n",
        "*We'll be using python to analyze big data from Broadway grosses.*\n",
        "\n",
        "\n",
        "---\n",
        "\n",
        "**Outline:**\n",
        "* load data\n",
        "* clean and structure data\n",
        "* visualize and explore"
      ]
    },
    {
      "cell_type": "code",
      "metadata": {
        "id": "hP7rvZ_F8UWq",
        "colab_type": "code",
        "colab": {}
      },
      "source": [
        "import re\n",
        "import json\n",
        "import requests\n",
        "import pandas as pd\n",
        "import datetime\n",
        "import matplotlib.pyplot as plt"
      ],
      "execution_count": 0,
      "outputs": []
    },
    {
      "cell_type": "markdown",
      "metadata": {
        "id": "QvW90mgjxnRJ",
        "colab_type": "text"
      },
      "source": [
        "# 1. Load data"
      ]
    },
    {
      "cell_type": "markdown",
      "metadata": {
        "id": "ETi_PJuZzVhv",
        "colab_type": "text"
      },
      "source": [
        "Broadway Grosses for Hamilton\n",
        "* Broadway World: https://www.broadwayworld.com/grosses/HAMILTON\n",
        "* download all data to excel – then convert to csv – then upload\n",
        "\n",
        "*OR* continue with the following link: \n",
        "\n",
        "* https://storage.googleapis.com/yb-intro-to-python/hamilton_data_04-06-2020.csv"
      ]
    },
    {
      "cell_type": "code",
      "metadata": {
        "id": "Kp4qIgBc1zxI",
        "colab_type": "code",
        "colab": {}
      },
      "source": [
        "# Hamilton data\n",
        "data_path = \"https://storage.googleapis.com/yb-intro-to-python/hamilton_data_04-06-2020.csv\"\n",
        "data = requests.get(data_path).text # data is text"
      ],
      "execution_count": 0,
      "outputs": []
    },
    {
      "cell_type": "code",
      "metadata": {
        "id": "13bo5d-i2A7A",
        "colab_type": "code",
        "colab": {}
      },
      "source": [
        "# load directly into a dataframe\n",
        "df = pd.read_csv(data_path)\n",
        "\n",
        "df"
      ],
      "execution_count": 0,
      "outputs": []
    },
    {
      "cell_type": "markdown",
      "metadata": {
        "id": "dg715-Ab2jlJ",
        "colab_type": "text"
      },
      "source": [
        "## 1.1 Cleaning the Data\n",
        "Data isn't right... We need to clean up some of the rows and properly structure some of the data"
      ]
    },
    {
      "cell_type": "code",
      "metadata": {
        "id": "0YN1nYka2ilp",
        "colab_type": "code",
        "colab": {}
      },
      "source": [
        "# Recall how you can convert from string to datetime\n",
        "dt = '04/16/2017'\n",
        "dt = datetime.datetime.strptime(dt, \"%m/%d/%Y\")\n",
        "print(dt)\n",
        "\n",
        "# Alternatively\n",
        "dt = '04/16/2017'\n",
        "dt = pd.to_datetime(dt)\n",
        "print(dt)"
      ],
      "execution_count": 0,
      "outputs": []
    },
    {
      "cell_type": "code",
      "metadata": {
        "id": "2ClR4rDT3InG",
        "colab_type": "code",
        "colab": {}
      },
      "source": [
        ""
      ],
      "execution_count": 0,
      "outputs": []
    },
    {
      "cell_type": "markdown",
      "metadata": {
        "id": "370e6VTb3I7I",
        "colab_type": "text"
      },
      "source": [
        "# 2. Next"
      ]
    },
    {
      "cell_type": "code",
      "metadata": {
        "id": "KWYGXdI_zQNm",
        "colab_type": "code",
        "colab": {}
      },
      "source": [
        ""
      ],
      "execution_count": 0,
      "outputs": []
    }
  ]
}