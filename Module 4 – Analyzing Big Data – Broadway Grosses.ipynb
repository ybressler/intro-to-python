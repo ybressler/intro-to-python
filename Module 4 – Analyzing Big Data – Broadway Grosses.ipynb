{
  "nbformat": 4,
  "nbformat_minor": 0,
  "metadata": {
    "colab": {
      "name": "Module 4 – Analyzing Big Data – Broadway Grosses (2).ipynb",
      "provenance": [],
      "private_outputs": true,
      "collapsed_sections": [
        "QvW90mgjxnRJ",
        "xXZrFu6x2640",
        "dg715-Ab2jlJ",
        "nhnpL_1Ft5C-",
        "T7QKiU__vcq4",
        "VJdiMV9nwCuF",
        "qyVFTrks1fCs",
        "ythESp1T1tWY",
        "nEOrASxN3IEE",
        "mgrNVpJX3LiI",
        "5WOilIqi5HSK",
        "HJe9_EY56RR4",
        "MP22D46c7Xqj",
        "2jBvz3uI7lc5",
        "6jnUW8nWB_gm"
      ],
      "authorship_tag": "ABX9TyPNYweBAZfarprCewvCbbsN",
      "include_colab_link": true
    },
    "kernelspec": {
      "name": "python3",
      "display_name": "Python 3"
    }
  },
  "cells": [
    {
      "cell_type": "markdown",
      "metadata": {
        "id": "view-in-github",
        "colab_type": "text"
      },
      "source": [
        "<a href=\"https://colab.research.google.com/github/ybressler/intro-to-python/blob/master/Module%204%20%E2%80%93%20Analyzing%20Big%20Data%20%E2%80%93%20Broadway%20Grosses.ipynb\" target=\"_parent\"><img src=\"https://colab.research.google.com/assets/colab-badge.svg\" alt=\"Open In Colab\"/></a>"
      ]
    },
    {
      "cell_type": "markdown",
      "metadata": {
        "id": "oWgEytop5Qxy",
        "colab_type": "text"
      },
      "source": [
        "<font size=6 color=\"#775222\">\n",
        "Module 4 – Analyzing Big Data Grosses for Hamilton on Broadway\n",
        "</font><br>\n",
        "*We'll be using python to analyze big data from the Broadway musical Hamilton.*\n",
        "\n",
        "\n",
        "---\n",
        "\n",
        "**Outline:**\n",
        "* load data\n",
        "* rename columns\n",
        "* clean data\n",
        "* aggregate data (make groups)\n",
        "* use time series aspect\n",
        "* visualize"
      ]
    },
    {
      "cell_type": "code",
      "metadata": {
        "id": "hP7rvZ_F8UWq",
        "colab_type": "code",
        "colab": {}
      },
      "source": [
        "import re\n",
        "import json\n",
        "import requests\n",
        "import pandas as pd\n",
        "import datetime\n",
        "import matplotlib.pyplot as plt"
      ],
      "execution_count": 0,
      "outputs": []
    },
    {
      "cell_type": "markdown",
      "metadata": {
        "id": "QvW90mgjxnRJ",
        "colab_type": "text"
      },
      "source": [
        "# 1. Load & Preprocess data"
      ]
    },
    {
      "cell_type": "markdown",
      "metadata": {
        "id": "ETi_PJuZzVhv",
        "colab_type": "text"
      },
      "source": [
        "Broadway Grosses for Hamilton\n",
        "* Broadway World: https://www.broadwayworld.com/grosses/HAMILTON\n",
        "* download all data to excel – then convert to csv – then upload\n",
        "\n",
        "**Alternatively:**\n",
        "*  use the following file \n",
        "* _(downloaded on 04/06/2020)_\n",
        "* https://storage.googleapis.com/yb-intro-to-python/hamilton_data_04-06-2020.csv"
      ]
    },
    {
      "cell_type": "markdown",
      "metadata": {
        "id": "xXZrFu6x2640",
        "colab_type": "text"
      },
      "source": [
        "## 1.0 Actually load the data"
      ]
    },
    {
      "cell_type": "code",
      "metadata": {
        "id": "Kp4qIgBc1zxI",
        "colab_type": "code",
        "colab": {}
      },
      "source": [
        "# Load data for Hamilton grosses\n",
        "data_path = \"https://storage.googleapis.com/yb-intro-to-python/hamilton_data_04-06-2020.csv\"\n",
        "data = requests.get(data_path).text # data is text"
      ],
      "execution_count": 0,
      "outputs": []
    },
    {
      "cell_type": "code",
      "metadata": {
        "id": "qMYAwhltr3W9",
        "colab_type": "code",
        "colab": {}
      },
      "source": [
        "# Investigate data\n",
        "print(data)\n",
        "print(type(data))"
      ],
      "execution_count": 0,
      "outputs": []
    },
    {
      "cell_type": "code",
      "metadata": {
        "id": "13bo5d-i2A7A",
        "colab_type": "code",
        "colab": {}
      },
      "source": [
        "# load directly into a dataframe\n",
        "df = pd.read_csv(data_path)\n",
        "\n",
        "# View only the first 5 rows\n",
        "df.head(5)"
      ],
      "execution_count": 0,
      "outputs": []
    },
    {
      "cell_type": "markdown",
      "metadata": {
        "id": "j8YOSlF2srVa",
        "colab_type": "text"
      },
      "source": [
        "Data isn't right... We need to rename some columns, clean up some of the rows and properly structure some of the data"
      ]
    },
    {
      "cell_type": "code",
      "metadata": {
        "id": "6i9g4icSsuH9",
        "colab_type": "code",
        "colab": {}
      },
      "source": [
        "# save a backup so we can work off of it\n",
        "df_backup = df.copy(deep=True)"
      ],
      "execution_count": 0,
      "outputs": []
    },
    {
      "cell_type": "markdown",
      "metadata": {
        "id": "dg715-Ab2jlJ",
        "colab_type": "text"
      },
      "source": [
        "## 1.1 Rename Columns"
      ]
    },
    {
      "cell_type": "code",
      "metadata": {
        "id": "20q05eqKs5yT",
        "colab_type": "code",
        "colab": {}
      },
      "source": [
        "# Rename them one at a time\n",
        "df.rename(columns = {\"This Week's Gross\":\"Gross\"})\n",
        "\n",
        "# It won't get saved unless you tell it to!\n",
        "# If the column doesn't exist, no problem!\n",
        "df.rename(columns = {\"This Week's Gross\":\"Gross\"}, inplace=True)\n",
        "\n",
        "# Alternatively, make a copy of the df (a bad idea)\n",
        "# df = df.rename(columns = {\"This Week's Gross\":\"Gross\"})\n",
        "\n",
        "df.head(5)"
      ],
      "execution_count": 0,
      "outputs": []
    },
    {
      "cell_type": "markdown",
      "metadata": {
        "id": "VUPYh0-dtest",
        "colab_type": "text"
      },
      "source": [
        "**An easier way to rename many columns at one is to create a dictionary, then pass that to the rename function:**"
      ]
    },
    {
      "cell_type": "code",
      "metadata": {
        "id": "pDUYwC0QDqi4",
        "colab_type": "code",
        "colab": {}
      },
      "source": [
        "# a dict of new column names\n",
        "new_cols = {\n",
        "    \"This Week's Gross\":\"Gross\",\n",
        "    \"Last Week's Gross\":\"Gross Last Week\",\n",
        "    \"Diff $\":\"Gross Diff\",\n",
        "    \"Potential Gross\":\"Gross Potential Value\",\n",
        "    \"Gross % of Potential\":\"Gross Potential\",\n",
        "    \"Average Ticket\":\"Average Ticket Price\",\n",
        "    \"Top Ticket\":\"Top Ticket Price\",\n",
        "    \"Seats\":\"Seats Sold\",\n",
        "    \"Total\":\"Total Seats\",\n",
        "    \"Per\":\"N Performances\",\n",
        "    \"This Week %\":\"Capacity\",\n",
        "    \"Last Week %\":\"Capacity Last Week\",\n",
        "    \"Diff %\":\"Capacity Diff\"\n",
        "}\n",
        "\n",
        "# rename your columns\n",
        "df.rename(columns = new_cols, inplace=True)"
      ],
      "execution_count": 0,
      "outputs": []
    },
    {
      "cell_type": "markdown",
      "metadata": {
        "id": "HbKkKv3EtwwE",
        "colab_type": "text"
      },
      "source": [
        "**Alternatively, you can use lists:** *(the order matters though!)*"
      ]
    },
    {
      "cell_type": "code",
      "metadata": {
        "id": "3CW4dNR3twBe",
        "colab_type": "code",
        "colab": {}
      },
      "source": [
        "cols = ['Week', 'Gross', 'Gross Last Week', 'Gross Diff',\n",
        "       'Gross Potential Value', 'Gross Potential', 'Average Ticket Price',\n",
        "       'Top Ticket Price', 'Seats Sold', 'Total Seats', 'N Performances',\n",
        "       'Capacity', 'Capacity Last Week', 'Capacity Diff']\n",
        "\n",
        "df.columns = cols\n",
        "\n",
        "df.head(3)"
      ],
      "execution_count": 0,
      "outputs": []
    },
    {
      "cell_type": "markdown",
      "metadata": {
        "id": "4o-5DCe9uJE1",
        "colab_type": "text"
      },
      "source": [
        "**You can also perform series like operations**"
      ]
    },
    {
      "cell_type": "code",
      "metadata": {
        "id": "7dOnxSCfuIGq",
        "colab_type": "code",
        "colab": {}
      },
      "source": [
        "# make them all lowercase\n",
        "cols = df.columns.str.lower()\n",
        "print(cols)\n",
        "\n",
        "# replace\n",
        "cols = df.columns.str.replace(\" \", \"_\")\n",
        "print(cols)\n",
        "\n",
        "# replace using regex – \\s+ gets rid of all empty spaces\n",
        "cols = df.columns.str.replace(\"\\s+\", \"_\", regex=True)\n",
        "print(cols)"
      ],
      "execution_count": 0,
      "outputs": []
    },
    {
      "cell_type": "markdown",
      "metadata": {
        "id": "nhnpL_1Ft5C-",
        "colab_type": "text"
      },
      "source": [
        "## 1.2 Drop rows & columns\n",
        "\n",
        "\n",
        "\n",
        "Verify that your columns match this list\n",
        "```\n",
        "['Week', 'Gross', 'Gross Last Week', 'Gross Diff',\n",
        "'Gross Potential Value', 'Gross Potential', 'Average Ticket Price',\n",
        "'Top Ticket Price', 'Seats Sold', 'Total Seats', 'N Performances',\n",
        "'Capacity', 'Capacity Last Week', 'Capacity Diff']\n",
        "```\n",
        "\n"
      ]
    },
    {
      "cell_type": "markdown",
      "metadata": {
        "id": "d6kIkXFDvKbK",
        "colab_type": "text"
      },
      "source": [
        "**Drop a row:**"
      ]
    },
    {
      "cell_type": "code",
      "metadata": {
        "id": "4uwPwmPjvHpz",
        "colab_type": "code",
        "colab": {}
      },
      "source": [
        "df.head(3)"
      ],
      "execution_count": 0,
      "outputs": []
    },
    {
      "cell_type": "code",
      "metadata": {
        "id": "bq-5y1DPslEE",
        "colab_type": "code",
        "colab": {}
      },
      "source": [
        "# Drop the first row\n",
        "df.drop(0, inplace=True, errors=\"ignore\")\n",
        "\n",
        "df.head(3)"
      ],
      "execution_count": 0,
      "outputs": []
    },
    {
      "cell_type": "markdown",
      "metadata": {
        "id": "D42haejnvMnf",
        "colab_type": "text"
      },
      "source": [
        "**Drop a column:**"
      ]
    },
    {
      "cell_type": "code",
      "metadata": {
        "id": "pU1mdoOovJoY",
        "colab_type": "code",
        "colab": {}
      },
      "source": [
        "# create a list of columns to drop --> then drop them!\n",
        "drop_cols = [\"Gross Last Week\",\"Gross Diff\", \"Capacity Last Week\", \"Capacity Diff\"]\n",
        "df.drop(columns=drop_cols, inplace=True, errors=\"ignore\")\n",
        "\n",
        "df.head(3)"
      ],
      "execution_count": 0,
      "outputs": []
    },
    {
      "cell_type": "markdown",
      "metadata": {
        "id": "T7QKiU__vcq4",
        "colab_type": "text"
      },
      "source": [
        "## 1.3 Change data type – datetime\n",
        "\n",
        "Almost all of our data types are not correct. Let's fix this."
      ]
    },
    {
      "cell_type": "code",
      "metadata": {
        "id": "XQ090GpbvfIJ",
        "colab_type": "code",
        "colab": {}
      },
      "source": [
        "# Check your current data types\n",
        "df.dtypes"
      ],
      "execution_count": 0,
      "outputs": []
    },
    {
      "cell_type": "markdown",
      "metadata": {
        "id": "AB6BHPAevqka",
        "colab_type": "text"
      },
      "source": [
        "```\n",
        "# Recall the methods to convert from string to datetime\n",
        "\n",
        "# DATETIME METHOD\n",
        "dt = '04/16/2017'\n",
        "dt = datetime.datetime.strptime(dt, \"%m/%d/%Y\")\n",
        "print(dt)\n",
        "\n",
        "# PANDAS METHOD\n",
        "dt = '04/16/2017'\n",
        "dt = pd.to_datetime(dt)\n",
        "print(dt)\n",
        "```"
      ]
    },
    {
      "cell_type": "code",
      "metadata": {
        "id": "W-rbeH8ivpYi",
        "colab_type": "code",
        "colab": {}
      },
      "source": [
        "# convert to datetime\n",
        "df[\"Week\"] = df[\"Week\"].apply(pd.to_datetime)"
      ],
      "execution_count": 0,
      "outputs": []
    },
    {
      "cell_type": "code",
      "metadata": {
        "id": "nY5sT-t5v-bE",
        "colab_type": "code",
        "colab": {}
      },
      "source": [
        "# Check your current data types\n",
        "df.dtypes"
      ],
      "execution_count": 0,
      "outputs": []
    },
    {
      "cell_type": "markdown",
      "metadata": {
        "id": "VJdiMV9nwCuF",
        "colab_type": "text"
      },
      "source": [
        "## 1.5 Change data type – numeric:"
      ]
    },
    {
      "cell_type": "code",
      "metadata": {
        "id": "JyxIDNhEwBg9",
        "colab_type": "code",
        "colab": {}
      },
      "source": [
        "# Manually replace \"$\" and \",\" --> then convert to int\n",
        "df[\"Gross\"] = df[\"Gross\"].astype(str).str.replace(\"$\",\"\").str.replace(\",\",\"\").astype(int)\n",
        "\n",
        "# A neater way –  Use regex!\n",
        "# df[\"Gross\"].str.replace(\"[\\$,]\",\"\", regex=True)"
      ],
      "execution_count": 0,
      "outputs": []
    },
    {
      "cell_type": "markdown",
      "metadata": {
        "id": "KbOAWuLcwUj_",
        "colab_type": "text"
      },
      "source": [
        "Create a function to do this for you:"
      ]
    },
    {
      "cell_type": "code",
      "metadata": {
        "id": "I0SHBXxzwWkX",
        "colab_type": "code",
        "colab": {}
      },
      "source": [
        "def convert_str_to_num(s):\n",
        "  \"\"\"\n",
        "  This converts a messy string to an integer or float\n",
        "  \n",
        "  params:\n",
        "    s: a string\n",
        "  \n",
        "  output:\n",
        "    an int or float\n",
        "  \"\"\"\n",
        "\n",
        "  # if it's already an int or a float, don't do anything...\n",
        "  if type(s) in [int, float]:\n",
        "    return s\n",
        "\n",
        "  # otherwise\n",
        "  s = re.sub(\"[\\$,%]\", \"\", s)\n",
        "\n",
        "  # if empty\n",
        "  if len(s)<1:\n",
        "    return None\n",
        "  # otherwise\n",
        "  if \".\" in s:\n",
        "    return float(s)\n",
        "  else:\n",
        "    return int(s)\n",
        "\n",
        "df[\"Top Ticket Price\"].apply(convert_str_to_num)"
      ],
      "execution_count": 0,
      "outputs": []
    },
    {
      "cell_type": "markdown",
      "metadata": {
        "id": "dP3emWQh0Usb",
        "colab_type": "text"
      },
      "source": [
        "**Use this function on many columns:**"
      ]
    },
    {
      "cell_type": "code",
      "metadata": {
        "id": "IVNXgECv0XV1",
        "colab_type": "code",
        "colab": {}
      },
      "source": [
        "num_cols = [\n",
        "            \"Gross\",\n",
        "            \"Gross Potential Value\",\n",
        "            'Gross Potential',\n",
        "            'Average Ticket Price',\n",
        "            'Top Ticket Price', \n",
        "            'Seats Sold', \n",
        "            'Total Seats',\n",
        "            'N Performances',\n",
        "            'Capacity',\n",
        "            'Pay Attention!'\n",
        "          ]\n"
      ],
      "execution_count": 0,
      "outputs": []
    },
    {
      "cell_type": "code",
      "metadata": {
        "id": "3NWdb5Dg0kjk",
        "colab_type": "code",
        "colab": {}
      },
      "source": [
        "# Let's verify that these columns are in our df:\n",
        "\n",
        "for col in num_cols:\n",
        "  if col not in df.columns:\n",
        "    print(f\"`{col}` not in columns!\")"
      ],
      "execution_count": 0,
      "outputs": []
    },
    {
      "cell_type": "code",
      "metadata": {
        "id": "1tBkHXde0-3J",
        "colab_type": "code",
        "colab": {}
      },
      "source": [
        "# A neat way to do this is:\n",
        "\n",
        "new_num_cols = []\n",
        "for col in num_cols:\n",
        "  if col in df.columns:\n",
        "    new_num_cols.append(col)\n",
        "\n",
        "# finally\n",
        "new_num_cols"
      ],
      "execution_count": 0,
      "outputs": []
    },
    {
      "cell_type": "code",
      "metadata": {
        "id": "sk1DR4nr1Hgk",
        "colab_type": "code",
        "colab": {}
      },
      "source": [
        "# Even neater – called a list operator\n",
        "new_num_cols = [col for col in num_cols if col in df.columns]\n",
        "\n",
        "new_num_cols"
      ],
      "execution_count": 0,
      "outputs": []
    },
    {
      "cell_type": "code",
      "metadata": {
        "id": "XFZifDkewjVL",
        "colab_type": "code",
        "colab": {}
      },
      "source": [
        "# Now, let's go ahead and change the datatypes\n",
        "for col in new_num_cols:\n",
        "  df[col] = df[col].apply(convert_str_to_num)\n"
      ],
      "execution_count": 0,
      "outputs": []
    },
    {
      "cell_type": "code",
      "metadata": {
        "id": "M2zNaFec1VlC",
        "colab_type": "code",
        "colab": {}
      },
      "source": [
        "df.dtypes"
      ],
      "execution_count": 0,
      "outputs": []
    },
    {
      "cell_type": "markdown",
      "metadata": {
        "id": "qyVFTrks1fCs",
        "colab_type": "text"
      },
      "source": [
        "## 1.4 Create a column for year"
      ]
    },
    {
      "cell_type": "code",
      "metadata": {
        "id": "kzaIjJYa1m89",
        "colab_type": "code",
        "colab": {}
      },
      "source": [
        "# Create a new column\n",
        "df[\"Year\"] = df[\"Week\"].dt.year\n",
        "\n",
        "df.head(3)"
      ],
      "execution_count": 0,
      "outputs": []
    },
    {
      "cell_type": "markdown",
      "metadata": {
        "id": "ythESp1T1tWY",
        "colab_type": "text"
      },
      "source": [
        "# 2. Load data – with all our preprocessing code upfront"
      ]
    },
    {
      "cell_type": "code",
      "metadata": {
        "id": "f48rBhNq2ckR",
        "colab_type": "code",
        "colab": {}
      },
      "source": [
        "# First, load your functions...\n",
        "def convert_str_to_num(s):\n",
        "  \"\"\"\n",
        "  This converts a messy string to an integer or float\n",
        "  \n",
        "  params:\n",
        "    s: a string\n",
        "  \n",
        "  output:\n",
        "    an int or float\n",
        "  \"\"\"\n",
        "\n",
        "  # if it's already an int or a float, don't do anything...\n",
        "  if type(s) in [int, float]:\n",
        "    return s\n",
        "\n",
        "  # otherwise\n",
        "  s = re.sub(\"[\\$,%]\", \"\", s)\n",
        "\n",
        "  # if empty\n",
        "  if len(s)<1:\n",
        "    return None\n",
        "  # otherwise\n",
        "  if \".\" in s:\n",
        "    return float(s)\n",
        "  else:\n",
        "    return int(s)\n"
      ],
      "execution_count": 0,
      "outputs": []
    },
    {
      "cell_type": "code",
      "metadata": {
        "id": "BU8Ry7X21zij",
        "colab_type": "code",
        "colab": {}
      },
      "source": [
        "data_path = \"https://storage.googleapis.com/yb-intro-to-python/hamilton_data_04-06-2020.csv\"\n",
        "\n",
        "# load directly into a dataframe\n",
        "df = pd.read_csv(data_path)\n",
        "\n",
        "# a dict of new column names\n",
        "new_cols = {\n",
        "    \"This Week's Gross\":\"Gross\",\n",
        "    \"Last Week's Gross\":\"Gross Last Week\",\n",
        "    \"Diff $\":\"Gross Diff\",\n",
        "    \"Potential Gross\":\"Gross Potential Value\",\n",
        "    \"Gross % of Potential\":\"Gross Potential\",\n",
        "    \"Average Ticket\":\"Average Ticket Price\",\n",
        "    \"Top Ticket\":\"Top Ticket Price\",\n",
        "    \"Seats\":\"Seats Sold\",\n",
        "    \"Total\":\"Total Seats\",\n",
        "    \"Per\":\"N Performances\",\n",
        "    \"This Week %\":\"Capacity\",\n",
        "    \"Last Week %\":\"Capacity Last Week\",\n",
        "    \"Diff %\":\"Capacity Diff\"\n",
        "}\n",
        "\n",
        "# rename your columns\n",
        "df.rename(columns = new_cols, inplace=True)\n",
        "\n",
        "# Drop the first row\n",
        "df.drop(0, inplace=True, errors=\"ignore\")\n",
        "\n",
        "# convert to datetime\n",
        "df[\"Week\"] = df[\"Week\"].apply(pd.to_datetime)\n",
        "\n",
        "\n",
        "num_cols = [\n",
        "            \"Gross\",\n",
        "            \"Gross Potential Value\",\n",
        "            'Gross Potential',\n",
        "            'Average Ticket Price',\n",
        "            'Top Ticket Price', \n",
        "            'Seats Sold', \n",
        "            'Total Seats',\n",
        "            'N Performances',\n",
        "            'Capacity',\n",
        "            'Pay Attention!'\n",
        "          ]\n",
        "\n",
        "# Filter with a list operator\n",
        "num_cols = [col for col in num_cols if col in df.columns]\n",
        "\n",
        "# Now, let's go ahead and change the datatypes\n",
        "for col in new_num_cols:\n",
        "  df[col] = df[col].apply(convert_str_to_num)\n",
        "\n",
        "\n",
        "# Create a new column\n",
        "df[\"Year\"] = df[\"Week\"].dt.year\n",
        "\n",
        "df.head(3)"
      ],
      "execution_count": 0,
      "outputs": []
    },
    {
      "cell_type": "code",
      "metadata": {
        "id": "rNDwVuXW3ljB",
        "colab_type": "code",
        "colab": {}
      },
      "source": [
        ""
      ],
      "execution_count": 0,
      "outputs": []
    },
    {
      "cell_type": "markdown",
      "metadata": {
        "id": "G3S8gS5i3pSs",
        "colab_type": "text"
      },
      "source": [
        "## 2.1 See the power of pandas in action:"
      ]
    },
    {
      "cell_type": "code",
      "metadata": {
        "id": "iMiKR5wW3vlt",
        "colab_type": "code",
        "colab": {}
      },
      "source": [
        "df.info()"
      ],
      "execution_count": 0,
      "outputs": []
    },
    {
      "cell_type": "code",
      "metadata": {
        "id": "h_bhKJmD3rL_",
        "colab_type": "code",
        "colab": {}
      },
      "source": [
        "df.describe()"
      ],
      "execution_count": 0,
      "outputs": []
    },
    {
      "cell_type": "code",
      "metadata": {
        "id": "P5-A2LLu3sts",
        "colab_type": "code",
        "colab": {}
      },
      "source": [
        "df[[\"Gross\", \"Gross Potential Value\"]].plot(title=\"Gross & Potential\")\n",
        "\n",
        "# Set to a log axis\n",
        "# plt.yscale(\"log\")\n",
        "\n",
        "plt.show()"
      ],
      "execution_count": 0,
      "outputs": []
    },
    {
      "cell_type": "code",
      "metadata": {
        "id": "l4AlfQCk38V-",
        "colab_type": "code",
        "colab": {}
      },
      "source": [
        "df[[\"Average Ticket Price\",\"Top Ticket Price\"]].plot(title=\"Ticket Prices\")\n",
        "\n",
        "plt.show()"
      ],
      "execution_count": 0,
      "outputs": []
    },
    {
      "cell_type": "markdown",
      "metadata": {
        "id": "nEOrASxN3IEE",
        "colab_type": "text"
      },
      "source": [
        "# 3. Analyze\n",
        "\n",
        "Let's answer some simple Q's"
      ]
    },
    {
      "cell_type": "markdown",
      "metadata": {
        "id": "mgrNVpJX3LiI",
        "colab_type": "text"
      },
      "source": [
        "## 3.1 What was the best week per year for `Gross`?"
      ]
    },
    {
      "cell_type": "code",
      "metadata": {
        "id": "FHQuwBci3i8E",
        "colab_type": "code",
        "colab": {}
      },
      "source": [
        "# Here's how you get the max value\n",
        "df.groupby(\"Year\")[\"Gross\"].max()"
      ],
      "execution_count": 0,
      "outputs": []
    },
    {
      "cell_type": "code",
      "metadata": {
        "id": "friYUcRW4hYZ",
        "colab_type": "code",
        "colab": {}
      },
      "source": [
        "# Here's how you get the date of the max value\n",
        "df.set_index(\"Week\").groupby(\"Year\")[\"Gross\"].idxmax()"
      ],
      "execution_count": 0,
      "outputs": []
    },
    {
      "cell_type": "code",
      "metadata": {
        "id": "3iz7pl6Z4q-G",
        "colab_type": "code",
        "colab": {}
      },
      "source": [
        "# Put those together to get:\n",
        "df_agg = df.set_index(\"Week\").groupby(\"Year\")[\"Gross\"].agg([\"idxmax\", max])\n",
        "\n",
        "df_agg"
      ],
      "execution_count": 0,
      "outputs": []
    },
    {
      "cell_type": "code",
      "metadata": {
        "id": "WOFi7an149pg",
        "colab_type": "code",
        "colab": {}
      },
      "source": [
        "# Rename your columns:\n",
        "df_agg.columns = [\"Week\", \"Gross\"]\n",
        "df_agg"
      ],
      "execution_count": 0,
      "outputs": []
    },
    {
      "cell_type": "code",
      "metadata": {
        "id": "gojcS-C64_su",
        "colab_type": "code",
        "colab": {}
      },
      "source": [
        "# Try plotting!\n",
        "df_agg[\"Gross\"].plot(kind=\"bar\")"
      ],
      "execution_count": 0,
      "outputs": []
    },
    {
      "cell_type": "markdown",
      "metadata": {
        "id": "5WOilIqi5HSK",
        "colab_type": "text"
      },
      "source": [
        "## 3.2 What was the best performing week for Hamilton ever?"
      ]
    },
    {
      "cell_type": "code",
      "metadata": {
        "id": "ivIr9jeV6IYf",
        "colab_type": "code",
        "colab": {}
      },
      "source": [
        "df[\"Gross\"].max()"
      ],
      "execution_count": 0,
      "outputs": []
    },
    {
      "cell_type": "code",
      "metadata": {
        "id": "NL_yghg65PW6",
        "colab_type": "code",
        "colab": {}
      },
      "source": [
        "# Get the index\n",
        "max_idx = df[\"Gross\"].idxmax()\n",
        "\n",
        "# Get the specific row\n",
        "max_row = df.iloc[max_idx]\n",
        "\n",
        "max_dt = max_row[\"Week\"]\n",
        "max_gross = max_row[\"Gross\"]\n",
        "\n",
        "print(f\"The best performing week for Hamilton *ever* occured on {max_dt} with a gross of ${max_gross:,}\")"
      ],
      "execution_count": 0,
      "outputs": []
    },
    {
      "cell_type": "markdown",
      "metadata": {
        "id": "HJe9_EY56RR4",
        "colab_type": "text"
      },
      "source": [
        "## 3.3 How many people saw the show since Hamilton won their Tony award?\n",
        "\n",
        "`date of Hamilton's win was June 12, 2016`"
      ]
    },
    {
      "cell_type": "code",
      "metadata": {
        "id": "r3AqGAmN6bTc",
        "colab_type": "code",
        "colab": {}
      },
      "source": [
        "dt_tony = pd.to_datetime(\"June 12, 2016\")\n",
        "dt_tony"
      ],
      "execution_count": 0,
      "outputs": []
    },
    {
      "cell_type": "code",
      "metadata": {
        "id": "TIqEOTLD6tiR",
        "colab_type": "code",
        "colab": {}
      },
      "source": [
        "# Filter using the following\n",
        "df[df[\"Week\"]>= dt_tony]"
      ],
      "execution_count": 0,
      "outputs": []
    },
    {
      "cell_type": "code",
      "metadata": {
        "id": "XonIGSW46_Cd",
        "colab_type": "code",
        "colab": {}
      },
      "source": [
        "# Now get the sum\n",
        "n = df[df[\"Week\"]>= dt_tony][\"Seats Sold\"].sum()\n",
        "\n",
        "print(f\"{n:,} people saw Hamilton since they won their Tony award ({dt_tony})\")"
      ],
      "execution_count": 0,
      "outputs": []
    },
    {
      "cell_type": "markdown",
      "metadata": {
        "id": "MP22D46c7Xqj",
        "colab_type": "text"
      },
      "source": [
        "## 3.4 How many people saw Hamilton each year?"
      ]
    },
    {
      "cell_type": "code",
      "metadata": {
        "id": "jTsMk1lp7XKA",
        "colab_type": "code",
        "colab": {}
      },
      "source": [
        "df.groupby(\"Year\")[\"Seats Sold\"].sum().plot(kind=\"bar\")"
      ],
      "execution_count": 0,
      "outputs": []
    },
    {
      "cell_type": "markdown",
      "metadata": {
        "id": "2jBvz3uI7lc5",
        "colab_type": "text"
      },
      "source": [
        "## 3.5 Visualize how average ticket price changed over time. Distinguish before and after Hamilton won the Tony award."
      ]
    },
    {
      "cell_type": "code",
      "metadata": {
        "id": "L_M8O3eR7sr_",
        "colab_type": "code",
        "colab": {}
      },
      "source": [
        "# this is what this looks like without any changes\n",
        "df[\"Average Ticket Price\"].plot()"
      ],
      "execution_count": 0,
      "outputs": []
    },
    {
      "cell_type": "code",
      "metadata": {
        "id": "wil5SOdS7jzi",
        "colab_type": "code",
        "colab": {}
      },
      "source": [
        "# reuse the code for dt\n",
        "dt_tony = pd.to_datetime(\"June 12, 2016\")\n",
        "\n",
        "# partition color based on before or after the tony award\n",
        "df[\"color\"] = df[\"Week\"].apply(lambda x: \"green\" if x>=dt_tony else \"blue\")"
      ],
      "execution_count": 0,
      "outputs": []
    },
    {
      "cell_type": "code",
      "metadata": {
        "id": "KszE_Ax991gE",
        "colab_type": "code",
        "colab": {}
      },
      "source": [
        "plt.scatter(x=\"Week\", y=\"Average Ticket Price\", color =\"color\", data=df)\n",
        "\n",
        "# add a vertical line\n",
        "plt.vlines(dt_tony, 0,df[\"Average Ticket Price\"].max(), color=\"red\", alpha=0.5, linestyle=\"--\")\n",
        "plt.show()"
      ],
      "execution_count": 0,
      "outputs": []
    },
    {
      "cell_type": "markdown",
      "metadata": {
        "id": "5S-LnIAO_Yxb",
        "colab_type": "text"
      },
      "source": [
        "All of this is much easier if you convert to a time series dataframe"
      ]
    },
    {
      "cell_type": "code",
      "metadata": {
        "id": "7lyY0NPG_MsI",
        "colab_type": "code",
        "colab": {}
      },
      "source": [
        "df_ts = df.set_index(\"Week\", drop=True)\n",
        "\n",
        "# Groupby to use a diff color on the same line\n",
        "for label, group_df in df_ts.groupby(\"color\"):\n",
        "  plt.plot(group_df[\"Average Ticket Price\"], color=label)\n",
        "\n",
        "# add a vertical line\n",
        "plt.vlines(dt_tony, 0,df[\"Average Ticket Price\"].max(), color=\"red\", alpha=0.5, linestyle=\"--\", label =\"70th Tony Awards\")\n",
        "\n",
        "# add another\n",
        "dt_tony_2 = pd.to_datetime(\"June 11, 2017\")\n",
        "plt.vlines(dt_tony_2, 0,df[\"Average Ticket Price\"].max(), color=\"red\", alpha=0.5, linestyle=\"--\", label =\"71st Tony Awards\")\n",
        "\n",
        "# display legend\n",
        "plt.legend()\n",
        "\n",
        "# ====================================\n",
        "\n",
        "# Give it a title:\n",
        "plt.title(\"Average Ticket Price for Hamilton over Time\", weight=\"bold\")\n",
        "\n",
        "# Y-label\n",
        "plt.ylabel(\"Avg. Ticket Price ($)\", weight=\"bold\")\n",
        "\n",
        "\n",
        "# ====================================\n",
        "\n",
        "plt.show()"
      ],
      "execution_count": 0,
      "outputs": []
    },
    {
      "cell_type": "markdown",
      "metadata": {
        "id": "6jnUW8nWB_gm",
        "colab_type": "text"
      },
      "source": [
        "# 3.6 Which month has the poorest attendance? "
      ]
    },
    {
      "cell_type": "code",
      "metadata": {
        "id": "IEakdnEiFCAa",
        "colab_type": "code",
        "colab": {}
      },
      "source": [
        "# create a new column for month:\n",
        "df[\"Month\"] = df[\"Week\"].dt.month\n",
        "\n",
        "# Use capacity since N Performance / Month may vary\n",
        "df_agg = df.groupby(\"Month\")[\"Capacity\"].mean()\n",
        "\n",
        "n = df_agg.idxmin()\n",
        "print(f\"The poorest month is {n}\")"
      ],
      "execution_count": 0,
      "outputs": []
    },
    {
      "cell_type": "markdown",
      "metadata": {
        "id": "cGgCqvyJFP7u",
        "colab_type": "text"
      },
      "source": [
        "**Visualize the results!**"
      ]
    },
    {
      "cell_type": "code",
      "metadata": {
        "id": "oFb1utVeOaQv",
        "colab_type": "code",
        "colab": {}
      },
      "source": [
        "df_agg.plot(\n",
        "    kind=\"bar\",\n",
        "    # \"ac7732\" is hamilton's color!\n",
        "    color=\"#ac7732\",\n",
        "    figsize=(12,6)\n",
        "    )\n",
        "\n",
        "plt.title(\"% Capacity per month\\nHamilton on Broadway\",color=\"#775222\", weight=\"bold\", size=14)\n",
        "plt.ylabel(\"% Capacity\", color=\"#775222\", weight=\"bold\")\n",
        "\n",
        "# Doesn't look that different... Try shifting to log scale...\n",
        "plt.yscale(\"log\")\n",
        "\n",
        "\n",
        "# To save\n",
        "# plt.savefig(\"hamilton_monthly_attendance.png\",dpi=150)\n",
        "\n",
        "plt.show()"
      ],
      "execution_count": 0,
      "outputs": []
    },
    {
      "cell_type": "markdown",
      "metadata": {
        "id": "RU3aprs5ETQz",
        "colab_type": "text"
      },
      "source": [
        "# 4. Conclusion\n",
        "\n",
        "By now, you're able to explore data on your own and answer whatever interesting Q's you might have. I'd encourage you to practice on this data set (since you're already familiar with it) and others!"
      ]
    },
    {
      "cell_type": "markdown",
      "metadata": {
        "id": "S_EbLRDEErKv",
        "colab_type": "text"
      },
      "source": [
        "## 4.1 A question you want to solve about the dataset ?"
      ]
    },
    {
      "cell_type": "code",
      "metadata": {
        "id": "C3yjHNXbDs9X",
        "colab_type": "code",
        "colab": {}
      },
      "source": [
        "# Code here to solve the question"
      ],
      "execution_count": 0,
      "outputs": []
    }
  ]
}