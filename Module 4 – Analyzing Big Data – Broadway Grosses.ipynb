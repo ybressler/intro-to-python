{
  "nbformat": 4,
  "nbformat_minor": 0,
  "metadata": {
    "colab": {
      "name": "Module 4 – Analyzing Big Data – Broadway Grosses.ipynb",
      "provenance": [],
      "collapsed_sections": [],
      "authorship_tag": "ABX9TyP7B9j1hen6Q5AsTHfScd8h",
      "include_colab_link": true
    },
    "kernelspec": {
      "name": "python3",
      "display_name": "Python 3"
    }
  },
  "cells": [
    {
      "cell_type": "markdown",
      "metadata": {
        "id": "view-in-github",
        "colab_type": "text"
      },
      "source": [
        "<a href=\"https://colab.research.google.com/github/ybressler/intro-to-python/blob/master/Module%204%20%E2%80%93%20Analyzing%20Big%20Data%20%E2%80%93%20Broadway%20Grosses.ipynb\" target=\"_parent\"><img src=\"https://colab.research.google.com/assets/colab-badge.svg\" alt=\"Open In Colab\"/></a>"
      ]
    },
    {
      "cell_type": "markdown",
      "metadata": {
        "id": "oWgEytop5Qxy",
        "colab_type": "text"
      },
      "source": [
        "# Module 4 – Analyzing Big Data – Grosses for Hamilton on Broadway\n",
        "\n",
        "*We'll be using python to analyze big data from Broadway grosses.*\n",
        "\n",
        "\n",
        "---\n",
        "\n",
        "**Outline:**\n",
        "* load data\n",
        "* clean and structure data\n",
        "* visualize and explore"
      ]
    },
    {
      "cell_type": "code",
      "metadata": {
        "id": "hP7rvZ_F8UWq",
        "colab_type": "code",
        "colab": {}
      },
      "source": [
        "import re\n",
        "import json\n",
        "import requests\n",
        "import pandas as pd\n",
        "import datetime\n",
        "import matplotlib.pyplot as plt"
      ],
      "execution_count": 0,
      "outputs": []
    },
    {
      "cell_type": "markdown",
      "metadata": {
        "id": "QvW90mgjxnRJ",
        "colab_type": "text"
      },
      "source": [
        "# 1. Load data"
      ]
    },
    {
      "cell_type": "markdown",
      "metadata": {
        "id": "ETi_PJuZzVhv",
        "colab_type": "text"
      },
      "source": [
        "Broadway Grosses for Hamilton\n",
        "* Broadway World: https://www.broadwayworld.com/grosses/HAMILTON\n",
        "* download all data to excel – then convert to csv – then upload\n",
        "\n",
        "*OR* continue with the following link: \n",
        "\n",
        "* https://storage.googleapis.com/yb-intro-to-python/hamilton_data_04-06-2020.csv"
      ]
    },
    {
      "cell_type": "code",
      "metadata": {
        "id": "Kp4qIgBc1zxI",
        "colab_type": "code",
        "colab": {}
      },
      "source": [
        "# Hamilton data\n",
        "data_path = \"https://storage.googleapis.com/yb-intro-to-python/hamilton_data_04-06-2020.csv\"\n",
        "data = requests.get(data_path).text # data is text"
      ],
      "execution_count": 0,
      "outputs": []
    },
    {
      "cell_type": "code",
      "metadata": {
        "id": "13bo5d-i2A7A",
        "colab_type": "code",
        "colab": {
          "base_uri": "https://localhost:8080/",
          "height": 425
        },
        "outputId": "b0cd5db4-48dc-4e7d-c2ba-95302cb07178"
      },
      "source": [
        "# load directly into a dataframe\n",
        "df = pd.read_csv(data_path)\n",
        "\n",
        "df"
      ],
      "execution_count": 24,
      "outputs": [
        {
          "output_type": "execute_result",
          "data": {
            "text/html": [
              "<div>\n",
              "<style scoped>\n",
              "    .dataframe tbody tr th:only-of-type {\n",
              "        vertical-align: middle;\n",
              "    }\n",
              "\n",
              "    .dataframe tbody tr th {\n",
              "        vertical-align: top;\n",
              "    }\n",
              "\n",
              "    .dataframe thead th {\n",
              "        text-align: right;\n",
              "    }\n",
              "</style>\n",
              "<table border=\"1\" class=\"dataframe\">\n",
              "  <thead>\n",
              "    <tr style=\"text-align: right;\">\n",
              "      <th></th>\n",
              "      <th>Week</th>\n",
              "      <th>This Week's Gross</th>\n",
              "      <th>Last Week's Gross</th>\n",
              "      <th>Diff $</th>\n",
              "      <th>Potential Gross</th>\n",
              "      <th>Gross % of Potential</th>\n",
              "      <th>Average Ticket</th>\n",
              "      <th>Top Ticket</th>\n",
              "      <th>Seats</th>\n",
              "      <th>Total</th>\n",
              "      <th>Per</th>\n",
              "      <th>This Week %</th>\n",
              "      <th>Last Week %</th>\n",
              "      <th>Diff %</th>\n",
              "    </tr>\n",
              "  </thead>\n",
              "  <tbody>\n",
              "    <tr>\n",
              "      <th>0</th>\n",
              "      <td>NaN</td>\n",
              "      <td>NaN</td>\n",
              "      <td>NaN</td>\n",
              "      <td>NaN</td>\n",
              "      <td>NaN</td>\n",
              "      <td>NaN</td>\n",
              "      <td>NaN</td>\n",
              "      <td>NaN</td>\n",
              "      <td>Sold</td>\n",
              "      <td>Seats</td>\n",
              "      <td>NaN</td>\n",
              "      <td>NaN</td>\n",
              "      <td>NaN</td>\n",
              "      <td>NaN</td>\n",
              "    </tr>\n",
              "    <tr>\n",
              "      <th>1</th>\n",
              "      <td>7/19/15</td>\n",
              "      <td>$1,288,436</td>\n",
              "      <td>$0</td>\n",
              "      <td>$1,288,436</td>\n",
              "      <td>$1,168,090</td>\n",
              "      <td>110.30%</td>\n",
              "      <td>$138.94</td>\n",
              "      <td>$275.00</td>\n",
              "      <td>9,273</td>\n",
              "      <td>9,247</td>\n",
              "      <td>7.0</td>\n",
              "      <td>100.30%</td>\n",
              "      <td>0%</td>\n",
              "      <td>0%</td>\n",
              "    </tr>\n",
              "    <tr>\n",
              "      <th>2</th>\n",
              "      <td>7/26/15</td>\n",
              "      <td>$1,302,511</td>\n",
              "      <td>$1,288,436</td>\n",
              "      <td>$14,075</td>\n",
              "      <td>$1,168,090</td>\n",
              "      <td>111.51%</td>\n",
              "      <td>$140.21</td>\n",
              "      <td>$275.00</td>\n",
              "      <td>9,290</td>\n",
              "      <td>9,247</td>\n",
              "      <td>7.0</td>\n",
              "      <td>100.50%</td>\n",
              "      <td>0%</td>\n",
              "      <td>100.50%</td>\n",
              "    </tr>\n",
              "    <tr>\n",
              "      <th>3</th>\n",
              "      <td>8/2/15</td>\n",
              "      <td>$1,490,816</td>\n",
              "      <td>$1,302,511</td>\n",
              "      <td>$188,305</td>\n",
              "      <td>$1,334,960</td>\n",
              "      <td>111.68%</td>\n",
              "      <td>$140.39</td>\n",
              "      <td>$275.00</td>\n",
              "      <td>10,619</td>\n",
              "      <td>10,568</td>\n",
              "      <td>8.0</td>\n",
              "      <td>100.50%</td>\n",
              "      <td>100.50%</td>\n",
              "      <td>0%</td>\n",
              "    </tr>\n",
              "    <tr>\n",
              "      <th>4</th>\n",
              "      <td>8/9/15</td>\n",
              "      <td>$1,255,163</td>\n",
              "      <td>$1,490,816</td>\n",
              "      <td>($235,653)</td>\n",
              "      <td>$1,334,960</td>\n",
              "      <td>94.02%</td>\n",
              "      <td>$117.99</td>\n",
              "      <td>$275.00</td>\n",
              "      <td>10,638</td>\n",
              "      <td>10,568</td>\n",
              "      <td>8.0</td>\n",
              "      <td>100.70%</td>\n",
              "      <td>100.50%</td>\n",
              "      <td>0.20%</td>\n",
              "    </tr>\n",
              "    <tr>\n",
              "      <th>...</th>\n",
              "      <td>...</td>\n",
              "      <td>...</td>\n",
              "      <td>...</td>\n",
              "      <td>...</td>\n",
              "      <td>...</td>\n",
              "      <td>...</td>\n",
              "      <td>...</td>\n",
              "      <td>...</td>\n",
              "      <td>...</td>\n",
              "      <td>...</td>\n",
              "      <td>...</td>\n",
              "      <td>...</td>\n",
              "      <td>...</td>\n",
              "      <td>...</td>\n",
              "    </tr>\n",
              "    <tr>\n",
              "      <th>239</th>\n",
              "      <td>2/9/20</td>\n",
              "      <td>$2,692,357</td>\n",
              "      <td>$2,676,538</td>\n",
              "      <td>$15,819</td>\n",
              "      <td>$2,605,608</td>\n",
              "      <td>103.33%</td>\n",
              "      <td>$250.34</td>\n",
              "      <td>$847.00</td>\n",
              "      <td>10,755</td>\n",
              "      <td>10,592</td>\n",
              "      <td>8.0</td>\n",
              "      <td>101.50%</td>\n",
              "      <td>101.50%</td>\n",
              "      <td>0%</td>\n",
              "    </tr>\n",
              "    <tr>\n",
              "      <th>240</th>\n",
              "      <td>2/16/20</td>\n",
              "      <td>$2,553,721</td>\n",
              "      <td>$2,692,357</td>\n",
              "      <td>($138,636)</td>\n",
              "      <td>$2,374,634</td>\n",
              "      <td>107.54%</td>\n",
              "      <td>$237.78</td>\n",
              "      <td>$847.00</td>\n",
              "      <td>10,740</td>\n",
              "      <td>10,592</td>\n",
              "      <td>8.0</td>\n",
              "      <td>101.40%</td>\n",
              "      <td>101.50%</td>\n",
              "      <td>-0.10%</td>\n",
              "    </tr>\n",
              "    <tr>\n",
              "      <th>241</th>\n",
              "      <td>2/23/20</td>\n",
              "      <td>$2,763,624</td>\n",
              "      <td>$2,553,721</td>\n",
              "      <td>$209,903</td>\n",
              "      <td>$2,605,608</td>\n",
              "      <td>106.06%</td>\n",
              "      <td>$257.03</td>\n",
              "      <td>$747.00</td>\n",
              "      <td>10,752</td>\n",
              "      <td>10,592</td>\n",
              "      <td>8.0</td>\n",
              "      <td>101.50%</td>\n",
              "      <td>101.40%</td>\n",
              "      <td>0.10%</td>\n",
              "    </tr>\n",
              "    <tr>\n",
              "      <th>242</th>\n",
              "      <td>3/1/20</td>\n",
              "      <td>$2,696,189</td>\n",
              "      <td>$2,763,624</td>\n",
              "      <td>($67,435)</td>\n",
              "      <td>$2,605,608</td>\n",
              "      <td>103.48%</td>\n",
              "      <td>$250.67</td>\n",
              "      <td>$847.00</td>\n",
              "      <td>10,756</td>\n",
              "      <td>10,592</td>\n",
              "      <td>8.0</td>\n",
              "      <td>101.50%</td>\n",
              "      <td>101.50%</td>\n",
              "      <td>0%</td>\n",
              "    </tr>\n",
              "    <tr>\n",
              "      <th>243</th>\n",
              "      <td>3/8/20</td>\n",
              "      <td>$2,688,721</td>\n",
              "      <td>$2,696,189</td>\n",
              "      <td>($7,468)</td>\n",
              "      <td>$2,605,608</td>\n",
              "      <td>103.19%</td>\n",
              "      <td>$250.07</td>\n",
              "      <td>$847.00</td>\n",
              "      <td>10,752</td>\n",
              "      <td>10,592</td>\n",
              "      <td>8.0</td>\n",
              "      <td>101.50%</td>\n",
              "      <td>101.50%</td>\n",
              "      <td>0%</td>\n",
              "    </tr>\n",
              "  </tbody>\n",
              "</table>\n",
              "<p>244 rows × 14 columns</p>\n",
              "</div>"
            ],
            "text/plain": [
              "        Week This Week's Gross  ... Last Week %   Diff %\n",
              "0        NaN               NaN  ...         NaN      NaN\n",
              "1    7/19/15       $1,288,436   ...          0%       0%\n",
              "2    7/26/15       $1,302,511   ...          0%  100.50%\n",
              "3     8/2/15       $1,490,816   ...     100.50%       0%\n",
              "4     8/9/15       $1,255,163   ...     100.50%    0.20%\n",
              "..       ...               ...  ...         ...      ...\n",
              "239   2/9/20       $2,692,357   ...     101.50%       0%\n",
              "240  2/16/20       $2,553,721   ...     101.50%   -0.10%\n",
              "241  2/23/20       $2,763,624   ...     101.40%    0.10%\n",
              "242   3/1/20       $2,696,189   ...     101.50%       0%\n",
              "243   3/8/20       $2,688,721   ...     101.50%       0%\n",
              "\n",
              "[244 rows x 14 columns]"
            ]
          },
          "metadata": {
            "tags": []
          },
          "execution_count": 24
        }
      ]
    },
    {
      "cell_type": "markdown",
      "metadata": {
        "id": "dg715-Ab2jlJ",
        "colab_type": "text"
      },
      "source": [
        "## 1.1 Cleaning the Data\n",
        "Data isn't right... We need to clean up some of the rows and properly structure some of the data"
      ]
    },
    {
      "cell_type": "code",
      "metadata": {
        "id": "0YN1nYka2ilp",
        "colab_type": "code",
        "colab": {}
      },
      "source": [
        "# Recall how you can convert from string to datetime\n",
        "dt = '04/16/2017'\n",
        "dt = datetime.datetime.strptime(dt, \"%m/%d/%Y\")\n",
        "print(dt)\n",
        "\n",
        "# Alternatively\n",
        "dt = '04/16/2017'\n",
        "dt = pd.to_datetime(dt)\n",
        "print(dt)"
      ],
      "execution_count": 0,
      "outputs": []
    },
    {
      "cell_type": "code",
      "metadata": {
        "id": "2ClR4rDT3InG",
        "colab_type": "code",
        "colab": {}
      },
      "source": [
        ""
      ],
      "execution_count": 0,
      "outputs": []
    },
    {
      "cell_type": "markdown",
      "metadata": {
        "id": "370e6VTb3I7I",
        "colab_type": "text"
      },
      "source": [
        "# 2. Next"
      ]
    },
    {
      "cell_type": "code",
      "metadata": {
        "id": "KWYGXdI_zQNm",
        "colab_type": "code",
        "colab": {}
      },
      "source": [
        ""
      ],
      "execution_count": 0,
      "outputs": []
    }
  ]
}