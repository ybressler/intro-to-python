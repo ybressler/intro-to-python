{
  "nbformat": 4,
  "nbformat_minor": 0,
  "metadata": {
    "colab": {
      "name": "Module 2 – Interacting with Data.ipynb",
      "provenance": [],
      "private_outputs": true,
      "collapsed_sections": [
        "wbvLQ-KYM6Ih",
        "woLto5la-fnb",
        "aYF-UZJONlxc",
        "ys_fJ-D5RNos",
        "R5UHKDypVGnH",
        "D8akSc9WR0Nn",
        "WDlXxQQVTDQN",
        "V4IEPwlOVjAQ",
        "kNaSfsL6WZh5",
        "xoB22u9pW-sv",
        "WG71AVdMXXoc",
        "tWqCViXWYPYR",
        "k4p27OjyXyds",
        "uATRbRalYh5v"
      ],
      "authorship_tag": "ABX9TyPrZFVxrQ9myQTHJY5GeY+n",
      "include_colab_link": true
    },
    "kernelspec": {
      "name": "python3",
      "display_name": "Python 3"
    }
  },
  "cells": [
    {
      "cell_type": "markdown",
      "metadata": {
        "id": "view-in-github",
        "colab_type": "text"
      },
      "source": [
        "<a href=\"https://colab.research.google.com/github/ybressler/intro-to-python/blob/master/Module%202%20%E2%80%93%20Interacting%20with%20Data.ipynb\" target=\"_parent\"><img src=\"https://colab.research.google.com/assets/colab-badge.svg\" alt=\"Open In Colab\"/></a>"
      ]
    },
    {
      "cell_type": "markdown",
      "metadata": {
        "id": "19a_mrJZ8rRp",
        "colab_type": "text"
      },
      "source": [
        "# Module 2. Interacting with Data\n",
        "\n",
        "\n",
        "\n",
        "---\n",
        "We'll be analyzing text data from Shakespeare's *THE TEMPEST*\n",
        "\n",
        "Full script: http://shakespeare.mit.edu/tempest/full.html"
      ]
    },
    {
      "cell_type": "markdown",
      "metadata": {
        "id": "wbvLQ-KYM6Ih",
        "colab_type": "text"
      },
      "source": [
        "# 1. Import data\n",
        "\n",
        "_How the data is loaded is beyond the scope of this module. Just know that the final object `data` is a dictionary._"
      ]
    },
    {
      "cell_type": "code",
      "metadata": {
        "id": "MIn7IO408wgS",
        "colab_type": "code",
        "colab": {}
      },
      "source": [
        "import requests\n",
        "\n",
        "url = \"https://storage.googleapis.com/yb-intro-to-python/the%20tempest%20(scenes%201-2).json\"\n",
        "r = requests.get(url)\n",
        "data = r.json()"
      ],
      "execution_count": 0,
      "outputs": []
    },
    {
      "cell_type": "markdown",
      "metadata": {
        "id": "woLto5la-fnb",
        "colab_type": "text"
      },
      "source": [
        "# 2. Navigating our dictionary"
      ]
    },
    {
      "cell_type": "markdown",
      "metadata": {
        "id": "aYF-UZJONlxc",
        "colab_type": "text"
      },
      "source": [
        "## 2.1 Understanding nested structure\n",
        "\n",
        "A useful method for storing lots of dependent data is to use nested dictionaries. The dictionary at hand – `data` is structured as follows:\n",
        "```\n",
        "ACTS\n",
        ">> SCENES\n",
        "  >> Setting\n",
        "  >> Character\n",
        "    >> Dialogue\n",
        "    >> Action\n",
        "```\n",
        "* Each `act` contains `scenes`.\n",
        "* Each `scene` contains `setting` and `characters`.\n",
        "* Each `character` contains `dialogue` and `action`\n",
        " * `Setting` is a string value\n",
        " * `Dialogue` is a list of strings\n",
        " * `Action` is a list of strings\n"
      ]
    },
    {
      "cell_type": "code",
      "metadata": {
        "id": "t5I75gAKQAIy",
        "colab_type": "code",
        "colab": {}
      },
      "source": [
        "# Let's begin by printing all acts\n",
        "data.keys()"
      ],
      "execution_count": 0,
      "outputs": []
    },
    {
      "cell_type": "code",
      "metadata": {
        "id": "Qs3CAGmnQDfM",
        "colab_type": "code",
        "colab": {}
      },
      "source": [
        "# Print all scenes in ACT 1\n",
        " data[\"ACT 1\"].keys()"
      ],
      "execution_count": 0,
      "outputs": []
    },
    {
      "cell_type": "code",
      "metadata": {
        "id": "2yp2ss7eQLJO",
        "colab_type": "code",
        "colab": {}
      },
      "source": [
        "# What are the keys for scene 1?\n",
        "data[\"ACT 1\"][\"SCENE I\"].keys()"
      ],
      "execution_count": 0,
      "outputs": []
    },
    {
      "cell_type": "code",
      "metadata": {
        "id": "ACjgNjaVRotH",
        "colab_type": "code",
        "colab": {}
      },
      "source": [
        "# What are the keys for a character in scene 1?\n",
        "data[\"ACT 1\"][\"SCENE I\"][\"Master\"].keys()"
      ],
      "execution_count": 0,
      "outputs": []
    },
    {
      "cell_type": "code",
      "metadata": {
        "id": "9h7fy2LSRsp2",
        "colab_type": "code",
        "colab": {}
      },
      "source": [
        "# Print the nested data object\n",
        "data[\"ACT 1\"][\"SCENE I\"][\"Master\"]"
      ],
      "execution_count": 0,
      "outputs": []
    },
    {
      "cell_type": "markdown",
      "metadata": {
        "id": "ys_fJ-D5RNos",
        "colab_type": "text"
      },
      "source": [
        "## 2.2 Looping through nested objects\n",
        "\n",
        "Non-symetrical structure can be challenge in looping through nested objects.<br>*(Things aren't how they're supposed to be!)*"
      ]
    },
    {
      "cell_type": "code",
      "metadata": {
        "id": "YhSsBUHP9LhV",
        "colab_type": "code",
        "colab": {}
      },
      "source": [
        "# Let's loop through and choose only character keys\n",
        "\n",
        "# Method 1: String match\n",
        "for key in data[\"ACT 1\"][\"SCENE I\"].keys():\n",
        "  if key != \"setting (at start)\":\n",
        "    print(key)"
      ],
      "execution_count": 0,
      "outputs": []
    },
    {
      "cell_type": "code",
      "metadata": {
        "id": "xySmcilTQruN",
        "colab_type": "code",
        "colab": {}
      },
      "source": [
        "# Method 2: String list match\n",
        "for key in data[\"ACT 1\"][\"SCENE I\"].keys():\n",
        "  if key not in [\"setting (at start)\"]:\n",
        "    print(key)"
      ],
      "execution_count": 0,
      "outputs": []
    },
    {
      "cell_type": "code",
      "metadata": {
        "id": "LQPkHcvKQ1S9",
        "colab_type": "code",
        "colab": {}
      },
      "source": [
        "# Method 3: String case match\n",
        "for key in data[\"ACT 1\"][\"SCENE I\"].keys():\n",
        "  if key == key.title():\n",
        "    print(key)"
      ],
      "execution_count": 0,
      "outputs": []
    },
    {
      "cell_type": "code",
      "metadata": {
        "id": "UZsc9F2pRA1e",
        "colab_type": "code",
        "colab": {}
      },
      "source": [
        "# Method 4: Value matching (Best approach)\n",
        "for key, value in data[\"ACT 1\"][\"SCENE I\"].items():\n",
        "  if type(value)==dict:\n",
        "    print(key)"
      ],
      "execution_count": 0,
      "outputs": []
    },
    {
      "cell_type": "markdown",
      "metadata": {
        "id": "R5UHKDypVGnH",
        "colab_type": "text"
      },
      "source": [
        "# 3. Parsing textual data _(words and stuff)_"
      ]
    },
    {
      "cell_type": "markdown",
      "metadata": {
        "id": "D8akSc9WR0Nn",
        "colab_type": "text"
      },
      "source": [
        "## 3.1 Get all characters per scene"
      ]
    },
    {
      "cell_type": "code",
      "metadata": {
        "id": "d0HE5w8rR3Gk",
        "colab_type": "code",
        "colab": {}
      },
      "source": [
        "for key, value in data[\"ACT 1\"].items():\n",
        "  \n",
        "  # more meaningful variable name\n",
        "  scene = key\n",
        "\n",
        "  # value is a dictionary\n",
        "  for k, v in value.items():\n",
        "  \n",
        "    # more meaningful variable name\n",
        "    char = k\n",
        "\n",
        "    if type(v)==dict:\n",
        "      print(char)\n",
        "\n"
      ],
      "execution_count": 0,
      "outputs": []
    },
    {
      "cell_type": "code",
      "metadata": {
        "id": "eWhNddhPSk-U",
        "colab_type": "code",
        "colab": {}
      },
      "source": [
        "# Instead of printing them, let's store them in a dictionary:\n",
        "\n",
        "all_chars = {}\n",
        "\n",
        "for key, value in data[\"ACT 1\"].items():\n",
        "  \n",
        "  # more meaningful variable name\n",
        "  scene = key\n",
        "\n",
        "  # Create an empty list\n",
        "  all_chars[scene] = []\n",
        "\n",
        "  # value is a dictionary\n",
        "  for k, v in value.items():\n",
        "  \n",
        "    # more meaningful variable name\n",
        "    char = k\n",
        "\n",
        "    if type(v)==dict:\n",
        "      # If it's a character, add to the scene\n",
        "      all_chars[scene].append(char)\n",
        "\n",
        "\n",
        "\n",
        "# Now that you're done, print\n",
        "all_chars"
      ],
      "execution_count": 0,
      "outputs": []
    },
    {
      "cell_type": "markdown",
      "metadata": {
        "id": "WDlXxQQVTDQN",
        "colab_type": "text"
      },
      "source": [
        "## 3.2 Get all dialog from a character"
      ]
    },
    {
      "cell_type": "code",
      "metadata": {
        "id": "bYo6MHxKRzC1",
        "colab_type": "code",
        "colab": {}
      },
      "source": [
        "# If the data is clean and nice, the structure of character should be the same\n",
        "char_dict = data[\"ACT 1\"][\"SCENE I\"][\"Master\"]\n",
        "\n",
        "print(\"Keys are:\", list(char_dict.keys()))\n",
        "\n",
        "# What is the data type for each?\n",
        "for key in char_dict.keys():\n",
        "  value = char_dict[key]\n",
        "  print(type(value))"
      ],
      "execution_count": 0,
      "outputs": []
    },
    {
      "cell_type": "code",
      "metadata": {
        "id": "bfgOcBR9T34P",
        "colab_type": "code",
        "colab": {}
      },
      "source": [
        "# Alternatively\n",
        "for key, value in char_dict.items():\n",
        "  print(type(value))"
      ],
      "execution_count": 0,
      "outputs": []
    },
    {
      "cell_type": "code",
      "metadata": {
        "id": "ObcR_Sht-eSx",
        "colab_type": "code",
        "colab": {}
      },
      "source": [
        "# Let's print all dialogue\n",
        "char_dict[\"dialogue\"]"
      ],
      "execution_count": 0,
      "outputs": []
    },
    {
      "cell_type": "code",
      "metadata": {
        "id": "O_n5qU7z-9fP",
        "colab_type": "code",
        "colab": {}
      },
      "source": [
        "# How many lines does he speak?\n",
        "len(char_dict[\"dialogue\"])"
      ],
      "execution_count": 0,
      "outputs": []
    },
    {
      "cell_type": "code",
      "metadata": {
        "id": "uJ9qDgEgUL7H",
        "colab_type": "code",
        "colab": {}
      },
      "source": [
        "# How many words does he speak?\n",
        "for x in char_dict[\"dialogue\"]:\n",
        "  # The split method will by default split along each space\n",
        "  print(len(x.split()))\n",
        "  print(x.split())\n",
        "  "
      ],
      "execution_count": 0,
      "outputs": []
    },
    {
      "cell_type": "code",
      "metadata": {
        "id": "1_Kk_umlUbJe",
        "colab_type": "code",
        "colab": {}
      },
      "source": [
        "# Do it again, but keep a total\n",
        "n_words = 0\n",
        "for x in char_dict[\"dialogue\"]:\n",
        "  n = len(x.split())\n",
        "\n",
        "  n_words = n_words + n\n",
        "\n",
        "print(n_words)"
      ],
      "execution_count": 0,
      "outputs": []
    },
    {
      "cell_type": "code",
      "metadata": {
        "id": "ENL4tcSeUmFU",
        "colab_type": "code",
        "colab": {}
      },
      "source": [
        "# alternatively\n",
        "n_words = 0\n",
        "for x in char_dict[\"dialogue\"]:\n",
        "  n = len(x.split())\n",
        "\n",
        "  # += is short notation for \"add this to what you already are\"\n",
        "  n_words += n\n",
        "\n",
        "print(n_words)"
      ],
      "execution_count": 0,
      "outputs": []
    },
    {
      "cell_type": "code",
      "metadata": {
        "id": "y7u1BEfmUuta",
        "colab_type": "code",
        "colab": {}
      },
      "source": [
        "# How many characters does he speak?\n",
        "n_chars = 0\n",
        "for x in char_dict[\"dialogue\"]:\n",
        "  n = len(x)\n",
        "  n_chars +=n\n",
        "\n",
        "print(n_chars)"
      ],
      "execution_count": 0,
      "outputs": []
    },
    {
      "cell_type": "markdown",
      "metadata": {
        "id": "V4IEPwlOVjAQ",
        "colab_type": "text"
      },
      "source": [
        "## 3.3 Parse action from a single character"
      ]
    },
    {
      "cell_type": "code",
      "metadata": {
        "id": "22ITzvqPCqqp",
        "colab_type": "code",
        "colab": {}
      },
      "source": [
        "# Essentially, I have a list of what each character said and what they've done\n",
        "char = \"Gonzalo\"\n",
        "\n",
        "# If I look up a character from the wrong scene, I don't want my code to break\n",
        "char_dict = data[\"ACT 1\"][\"SCENE I\"].get(char, {\"dialogue\":[],\"action\":[]})\n",
        "\n",
        "# What's the first value?\n",
        "char_action = char_dict[\"action\"]\n",
        "\n",
        "# which character had the most action in act 1, scene 1?\n",
        "n_words = 0\n",
        "n_characters = 0\n",
        "n_instances = len(char_action)\n",
        "\n",
        "for x in char_action:\n",
        "  # split for words\n",
        "  x_words = x.split()\n",
        "  # Use this to print the words\n",
        "  #print(x_words)\n",
        "\n",
        "  n_words += len(x_words)\n",
        "  n_characters+=len(x)\n",
        "  \n",
        "\n",
        "# I can store all this information in a dictionary!\n",
        "all_char_action = {}\n",
        "\n",
        "all_char_action[char] = {\n",
        "    \"n_words\":n_words,\n",
        "    \"n_characters\":n_characters,\n",
        "    \"n_instances\":n_instances   \n",
        "}\n",
        "\n",
        "all_char_action"
      ],
      "execution_count": 0,
      "outputs": []
    },
    {
      "cell_type": "markdown",
      "metadata": {
        "id": "kNaSfsL6WZh5",
        "colab_type": "text"
      },
      "source": [
        "## 3.4 Parse action from all characters"
      ]
    },
    {
      "cell_type": "code",
      "metadata": {
        "id": "NLEfVT6PWaw4",
        "colab_type": "code",
        "colab": {}
      },
      "source": [
        "# Create an empty dictionary\n",
        "all_data = {}\n",
        "x_lookup = \"action\"\n",
        "\n",
        "for key, value in data[\"ACT 1\"][\"SCENE I\"].items():\n",
        "\n",
        "  # easier name\n",
        "  char = key\n",
        "\n",
        "  # If it's a string, skip it (we only want characters)\n",
        "  if type(value)==str:\n",
        "    continue\n",
        "\n",
        "  # Instead of creating 3 variables, I can create a dictionary\n",
        "  char_dict = {\n",
        "      \"n_words\":0,\n",
        "      \"n_characters\":0,\n",
        "      \"n_instances\":len(value[x_lookup])\n",
        "  }\n",
        "\n",
        "  # I want to count the details of each character's action\n",
        "  for x in value[x_lookup]:\n",
        "\n",
        "    # Count the words\n",
        "    char_dict[\"n_words\"] += len(x.split())\n",
        "\n",
        "    # Count the characters\n",
        "    # We won't get rid of spaces\n",
        "    char_dict[\"n_characters\"] += len(x)\n",
        "\n",
        "\n",
        "  # Add my char_dict to the main dict\n",
        "  all_data[char] = char_dict\n",
        "\n",
        "  #break # Stop when you get here\n",
        "\n",
        "\n",
        "# Done my loop\n",
        "all_data"
      ],
      "execution_count": 0,
      "outputs": []
    },
    {
      "cell_type": "markdown",
      "metadata": {
        "id": "xoB22u9pW-sv",
        "colab_type": "text"
      },
      "source": [
        "## 3.5 Parse dialogue from all characters"
      ]
    },
    {
      "cell_type": "code",
      "metadata": {
        "id": "DafzA8KwXCdm",
        "colab_type": "code",
        "colab": {}
      },
      "source": [
        "# Create an empty dictionary\n",
        "all_data = {}\n",
        "x_lookup = \"dialogue\"\n",
        "\n",
        "for key, value in data[\"ACT 1\"][\"SCENE I\"].items():\n",
        "\n",
        "  # easier name\n",
        "  char = key\n",
        "\n",
        "  # If it's a string, skip it (we only want characters)\n",
        "  if type(value)==str:\n",
        "    continue\n",
        "\n",
        "  # Instead of creating 3 variables, I can create a dictionary\n",
        "  char_dict = {\n",
        "      \"n_words\":0,\n",
        "      \"n_characters\":0,\n",
        "      \"n_instances\":len(value[x_lookup])\n",
        "  }\n",
        "\n",
        "  # I want to count the details of each character's action\n",
        "  for x in value[x_lookup]:\n",
        "\n",
        "    # Count the words\n",
        "    char_dict[\"n_words\"] += len(x.split())\n",
        "\n",
        "    # Count the characters\n",
        "    # We won't get rid of spaces\n",
        "    char_dict[\"n_characters\"] += len(x)\n",
        "\n",
        "\n",
        "  # Add my char_dict to the main dict\n",
        "  all_data[char] = char_dict\n",
        "\n",
        "  #break # Stop when you get here\n",
        "\n",
        "\n",
        "# Done my loop\n",
        "all_data"
      ],
      "execution_count": 0,
      "outputs": []
    },
    {
      "cell_type": "markdown",
      "metadata": {
        "id": "kdveS-cpL6iM",
        "colab_type": "text"
      },
      "source": [
        "# 4. Analyze"
      ]
    },
    {
      "cell_type": "markdown",
      "metadata": {
        "id": "WG71AVdMXXoc",
        "colab_type": "text"
      },
      "source": [
        "## 4.1 Another reason to love `Pandas`"
      ]
    },
    {
      "cell_type": "code",
      "metadata": {
        "id": "nfkYgy-sL8OL",
        "colab_type": "code",
        "colab": {}
      },
      "source": [
        "import pandas as pd\n",
        "import matplotlib.pyplot as plt # This is a plotting library, ignore it"
      ],
      "execution_count": 0,
      "outputs": []
    },
    {
      "cell_type": "code",
      "metadata": {
        "id": "hQ6XArxuMDF4",
        "colab_type": "code",
        "colab": {}
      },
      "source": [
        "# a dataframe is a matrix representation of data\n",
        "df = pd.DataFrame.from_dict(all_data)\n",
        "\n",
        "# Pretty print (only in notebooks)\n",
        "df"
      ],
      "execution_count": 0,
      "outputs": []
    },
    {
      "cell_type": "code",
      "metadata": {
        "id": "wYLt-4BoXl10",
        "colab_type": "code",
        "colab": {}
      },
      "source": [
        "# Switch rows and columns (Transpose)\n",
        "df.T"
      ],
      "execution_count": 0,
      "outputs": []
    },
    {
      "cell_type": "code",
      "metadata": {
        "id": "CyBMCf87XqfL",
        "colab_type": "code",
        "colab": {}
      },
      "source": [
        "# Keep dependent code next to itself:\n",
        "df = pd.DataFrame.from_dict(all_data)\n",
        "df = df.T\n",
        "\n",
        "# Now print\n",
        "df"
      ],
      "execution_count": 0,
      "outputs": []
    },
    {
      "cell_type": "markdown",
      "metadata": {
        "id": "tWqCViXWYPYR",
        "colab_type": "text"
      },
      "source": [
        "## 4.2 Summarizing data in pandas"
      ]
    },
    {
      "cell_type": "code",
      "metadata": {
        "id": "CsmxeTEJX-GM",
        "colab_type": "code",
        "colab": {}
      },
      "source": [
        "# What's the type of a dataframe?\n",
        "type(df)"
      ],
      "execution_count": 0,
      "outputs": []
    },
    {
      "cell_type": "code",
      "metadata": {
        "id": "xZdrz5VZYCJi",
        "colab_type": "code",
        "colab": {}
      },
      "source": [
        "# What's the type of a column?\n",
        "type(df[\"n_words\"])"
      ],
      "execution_count": 0,
      "outputs": []
    },
    {
      "cell_type": "code",
      "metadata": {
        "id": "Qou2WlioYF8V",
        "colab_type": "code",
        "colab": {}
      },
      "source": [
        "# What's the type of data *in* the columns?\n",
        "df.dtypes"
      ],
      "execution_count": 0,
      "outputs": []
    },
    {
      "cell_type": "code",
      "metadata": {
        "id": "mIXDpMAMYMvW",
        "colab_type": "code",
        "colab": {}
      },
      "source": [
        "# Some other cool stuff\n",
        "df.info()"
      ],
      "execution_count": 0,
      "outputs": []
    },
    {
      "cell_type": "code",
      "metadata": {
        "id": "2G8DYR72YWXE",
        "colab_type": "code",
        "colab": {}
      },
      "source": [
        "df.describe()"
      ],
      "execution_count": 0,
      "outputs": []
    },
    {
      "cell_type": "code",
      "metadata": {
        "id": "dwP7BhFdY4g6",
        "colab_type": "code",
        "colab": {}
      },
      "source": [
        "df.corr()"
      ],
      "execution_count": 0,
      "outputs": []
    },
    {
      "cell_type": "code",
      "metadata": {
        "id": "qkR7zFN1ZBXZ",
        "colab_type": "code",
        "colab": {}
      },
      "source": [
        "corr = df.corr()\n",
        "corr.style.background_gradient(cmap='coolwarm')"
      ],
      "execution_count": 0,
      "outputs": []
    },
    {
      "cell_type": "markdown",
      "metadata": {
        "id": "k4p27OjyXyds",
        "colab_type": "text"
      },
      "source": [
        "## 4.3 Calculate using columns\n",
        "\n",
        "Dataframes are powerful data structures"
      ]
    },
    {
      "cell_type": "code",
      "metadata": {
        "id": "F9G6ieI-ELsW",
        "colab_type": "code",
        "colab": {}
      },
      "source": [
        "# Get the average characters per word\n",
        "df[\"avg char per word\"] = df[\"n_characters\"] / df[\"n_words\"]\n",
        "\n",
        "df"
      ],
      "execution_count": 0,
      "outputs": []
    },
    {
      "cell_type": "code",
      "metadata": {
        "id": "0dAdCXouM8Y-",
        "colab_type": "code",
        "colab": {}
      },
      "source": [
        "# What is the longest words?\n",
        "n_max = df[\"avg char per word\"].max()\n",
        "\n",
        "# Who speaks with the longest words??\n",
        "n_char = df[\"avg char per word\"].idxmax()\n",
        "\n",
        "print(n_char, n_max)"
      ],
      "execution_count": 0,
      "outputs": []
    },
    {
      "cell_type": "code",
      "metadata": {
        "id": "iYFVbwksYhf9",
        "colab_type": "code",
        "colab": {}
      },
      "source": [
        ""
      ],
      "execution_count": 0,
      "outputs": []
    },
    {
      "cell_type": "markdown",
      "metadata": {
        "id": "uATRbRalYh5v",
        "colab_type": "text"
      },
      "source": [
        "## 4.4 Visualize – Explore"
      ]
    },
    {
      "cell_type": "code",
      "metadata": {
        "id": "KA2vJL4gNNdL",
        "colab_type": "code",
        "colab": {}
      },
      "source": [
        "# Here's what it looks like\n",
        "df[\"avg char per word\"].plot(kind=\"bar\")"
      ],
      "execution_count": 0,
      "outputs": []
    },
    {
      "cell_type": "code",
      "metadata": {
        "id": "XbnFhntzYm_m",
        "colab_type": "code",
        "colab": {}
      },
      "source": [
        "# You can visualize the whole thing\n",
        "df.plot(kind=\"bar\")"
      ],
      "execution_count": 0,
      "outputs": []
    },
    {
      "cell_type": "code",
      "metadata": {
        "id": "wwKFJbe1Zewt",
        "colab_type": "code",
        "colab": {}
      },
      "source": [
        "# You can visualize the whole thing\n",
        "df.plot(kind=\"bar\", logy=True)"
      ],
      "execution_count": 0,
      "outputs": []
    },
    {
      "cell_type": "code",
      "metadata": {
        "id": "h3iJTs8pYsZt",
        "colab_type": "code",
        "colab": {}
      },
      "source": [
        "# You can visualize the whole thing\n",
        "df.plot(kind=\"box\",logy=True)"
      ],
      "execution_count": 0,
      "outputs": []
    },
    {
      "cell_type": "code",
      "metadata": {
        "id": "QbZOoSL0akmV",
        "colab_type": "code",
        "colab": {}
      },
      "source": [
        "# Do all of it!\n",
        "\n",
        "color_dict = {\n",
        "    \"n_words\":\"#7a0099\",\n",
        "    \"n_characters\":\"pink\",\n",
        "    \"n_instances\":\"blue\",\n",
        "    \"avg char per word\":\"orange\"\n",
        "    }\n",
        "\n",
        "for col in df.columns:\n",
        "  df[col].plot(kind=\"bar\", color=color_dict[col])\n",
        "  plt.title(col, weight=\"bold\", color= color_dict[col])\n",
        "\n",
        "  # If you wanted to save each graphe:\n",
        "  # plt.savefig(f\"the tempest – act 1 scene 1 – dialogue – {col}.png\", dpi=150)\n",
        "\n",
        "  # You can't show it and then save it. First save, then show.\n",
        "  plt.show()"
      ],
      "execution_count": 0,
      "outputs": []
    },
    {
      "cell_type": "code",
      "metadata": {
        "id": "NhRLxAuba_5n",
        "colab_type": "code",
        "colab": {}
      },
      "source": [
        "plt.scatter(\n",
        "    x = \"n_words\",\n",
        "    y = \"n_characters\",\n",
        "    data = df\n",
        "    )\n",
        "plt.show()"
      ],
      "execution_count": 0,
      "outputs": []
    },
    {
      "cell_type": "code",
      "metadata": {
        "id": "irPEQPaWbAPV",
        "colab_type": "code",
        "colab": {}
      },
      "source": [
        "plt.scatter(\n",
        "    x = \"n_words\",\n",
        "    y = \"n_instances\",\n",
        "    data = df\n",
        "    )"
      ],
      "execution_count": 0,
      "outputs": []
    },
    {
      "cell_type": "markdown",
      "metadata": {
        "id": "-X7iqorwZpgK",
        "colab_type": "text"
      },
      "source": [
        "## 4.5 Visualize – Focused\n",
        "\n",
        "**What is our projects goal?**\n",
        "* Who is the most important character?\n",
        "* Do _evil_ characters have specific patterns?"
      ]
    },
    {
      "cell_type": "code",
      "metadata": {
        "id": "Wwsm6aRJNaGL",
        "colab_type": "code",
        "colab": {}
      },
      "source": [
        "# Plot n words per character\n",
        "deep_purple = \"#7a0099\"\n",
        "df[\"n_words\"].plot(kind=\"bar\", color=deep_purple)"
      ],
      "execution_count": 0,
      "outputs": []
    },
    {
      "cell_type": "code",
      "metadata": {
        "id": "fgSGutA5aqR2",
        "colab_type": "code",
        "colab": {}
      },
      "source": [
        "# Do some more calculations\n",
        "df[\"words_per_instance\"] = df[\"n_words\"]/df[\"n_instances\"]\n",
        "df[\"chars_per_instance\"] = df[\"n_characters\"]/df[\"n_instances\"]\n",
        "df"
      ],
      "execution_count": 0,
      "outputs": []
    },
    {
      "cell_type": "code",
      "metadata": {
        "id": "EZop8GR4bOZh",
        "colab_type": "code",
        "colab": {}
      },
      "source": [
        "df[\"words_per_instance\"].plot(kind=\"bar\", color=deep_purple)"
      ],
      "execution_count": 0,
      "outputs": []
    },
    {
      "cell_type": "code",
      "metadata": {
        "id": "sVDD-D25beTy",
        "colab_type": "code",
        "colab": {}
      },
      "source": [
        "df[\"chars_per_instance\"].plot(kind=\"bar\", color=deep_purple)"
      ],
      "execution_count": 0,
      "outputs": []
    },
    {
      "cell_type": "code",
      "metadata": {
        "id": "ElJP6wSEbi11",
        "colab_type": "code",
        "colab": {}
      },
      "source": [
        "df[[\"chars_per_instance\",\"words_per_instance\"]].plot(kind=\"bar\", color=[deep_purple,\"blue\"])\n",
        "\n",
        "plt.title(\"THE TEMPEST – Act 1. Scene 1.\", weight=\"bold\", size=14)\n",
        "plt.show()\n",
        "\n",
        "# If you want to save\n",
        "# plt.savefig(\"n_words.png\", dpi=150,  bbox_inches = \"tight\")"
      ],
      "execution_count": 0,
      "outputs": []
    },
    {
      "cell_type": "markdown",
      "metadata": {
        "id": "UtZhw0CqcnxO",
        "colab_type": "text"
      },
      "source": [
        "# 5. Conclusion\n",
        "\n",
        "* Gonzalo has:\n",
        "  * the most words per instance: `21.857143`\n",
        "  * the most characters per instance: `115.142857`\n",
        "\n",
        "\n",
        "* He has few characters per word: `5.267974`<br>\n",
        "* This is more than Botswain: `5.196262`<br>\n",
        "* But less than Master: `6.375000`\n",
        "\n",
        "It's hard to say if Gonzalo is evil or not, but he's certainly important. ***How intruiging!***"
      ]
    }
  ]
}